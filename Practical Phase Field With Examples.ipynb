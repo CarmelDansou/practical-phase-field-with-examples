{
 "cells": [
  {
   "cell_type": "markdown",
   "metadata": {
    "slideshow": {
     "slide_type": "slide"
    }
   },
   "source": [
    "## Practical Phase Field With Examples\n",
    "\n",
    "Dan Lewis  \n",
    "Rensselaer Polytechnic Institute  \n",
    "lewisd2@rpi.edu"
   ]
  },
  {
   "cell_type": "markdown",
   "metadata": {
    "slideshow": {
     "slide_type": "slide"
    }
   },
   "source": [
    "## Outline\n",
    "\n",
    "This presentation covers three essential models that provide the basis for phase field modeling:\n",
    "\n",
    "1.  A Pure Material\n",
    "1.  Spinodal Decomposition (and Order Disorder Transformations)\n",
    "1.  Multi-Order Parameter Models"
   ]
  },
  {
   "cell_type": "markdown",
   "metadata": {
    "slideshow": {
     "slide_type": "slide"
    }
   },
   "source": [
    "##  Getting Started\n",
    "\n",
    "To use these notes you will need:\n",
    "\n",
    "* A Python installation (such as Anaconda)\n",
    "* The FiPy PDE solving package (installed via Python commands)\n",
    "* The ability to start and use basic functionality of the Jupyter Notebook \n",
    "* An understanding of basic numerical methods"
   ]
  },
  {
   "cell_type": "markdown",
   "metadata": {
    "slideshow": {
     "slide_type": "skip"
    }
   },
   "source": [
    "## References\n",
    "\n",
    "* W. J. Boettinger, J. A. Warren, et al., \"Phase Field Simulation of Solidification\", Annual Review of Materials Research, v32, p163-194 (2002)\n",
    "* Free Energy of a Nonuniform System. I. Interfacial Free Energy, Journal of chemical Physics, v28, n2, p258-267 (1958) \n",
    "* R. DeHoff, \"Thermodynamics in Materials Science\", CRC Press, 2006\n",
    "* FiPy at http://www.nist.gov"
   ]
  },
  {
   "cell_type": "markdown",
   "metadata": {
    "slideshow": {
     "slide_type": "slide"
    }
   },
   "source": [
    "## Introduction\n",
    "----\n",
    "\n",
    "* The phase field method makes possible the study of complex microstructural morphologies such as dendritic and eutectic solidification as well as polycrystalline growth.  \n",
    "* The major contribution of the method is the introduction of an order parameter used to delineate phases such as solid/liquid, $\\alpha~/~\\beta$, etc.  The concept of an order parameter is not new.  However, smoothly varying this order parameter through an interphase interface frees us from tracking the interface position and applying boundary conditions at interfaces having complex morphologies.\n",
    "* Three \"building block\" models are important for study, 1) the pure material, 2) a chemical solution model, and 3) a multiphase model.  These three models are the basis for other complex models."
   ]
  },
  {
   "cell_type": "markdown",
   "metadata": {
    "slideshow": {
     "slide_type": "skip"
    }
   },
   "source": [
    "A small excerpt from Boettinger's review paper (cited above):\n",
    "\n",
    ">The method employs a phase-field variable, e.g., $\\phi$, which is a function of position and time, to describe whether the material is liquid or solid. The behavior of this variable is governed by an equation that is coupled to equations for heat\n",
    "and solute transport. Interfaces between liquid and solid are described by smooth but highly localized changes of this variable between fixed values that represent solid and liquid, (in this review, 0 and 1, respectively).\n",
    "\n",
    "Using the order parameter in this way makes it easier to calculate solidification microstructures - we no longer have to track the interface.  The shape (while changing from 0 to 1) of this interface is a balance between two forces.  The energy increase for intermediate states between solid and liquid (from the bulk free energy) and energy costs associated with steep gradients in the phase-field order parameter."
   ]
  },
  {
   "cell_type": "markdown",
   "metadata": {
    "slideshow": {
     "slide_type": "slide"
    }
   },
   "source": [
    "## The Free Energy of a Non-Uniform System\n",
    "----\n",
    "\n",
    "Cahn and Hilliard identified the lowest order correction to the free energy density that arises from the presence of an interface.  Inclusion of this term forms the energetic basis for the phase-field method.\n",
    "\n",
    "If the temperature and pressure are our process variables, then we can use the Gibbs free energy.  The total energy of the system is found by integrating the Gibbs free energy density over the volume of the system.  Furthermore we assume that the order parameter (and/or composition) and powers of the derivatives of order parameter all contribute to the free energy and are independent:\n",
    "\n",
    "$$\n",
    "\\mathscr{F} = \\int_V f_v(\\phi, \\nabla \\phi, \\nabla^2 \\phi, ...) \\delta V\n",
    "$$"
   ]
  },
  {
   "cell_type": "markdown",
   "metadata": {
    "slideshow": {
     "slide_type": "slide"
    }
   },
   "source": [
    "It is possible to expand the integrand explicitly in powers of the independent parameters (a multivariate Taylor series), in a shorthand notation we write an equivalent statement:\n",
    "\n",
    "$$\n",
    "f_v = f_v^0 + L \\nabla \\phi + K_1 \\nabla^2 \\phi + K_2 (\\nabla \\phi)^2 + \\; ...\n",
    "$$\n",
    "\n",
    "with\n",
    "\n",
    "$$\n",
    "L = \\left( \\frac{\\partial f_v}{\\partial (\\nabla \\phi)} \\right)\n",
    "$$\n",
    "\n",
    "and **other similar terms** as per the Taylor's Series expansion above treating $\\phi$ and all higher order derivatives as independent parameters in the free energy space.  These extra terms can be viewed as \"correction\" terms in the approximation of the free energy density near equilibrium.\n",
    "\n",
    "Other terms are argued to be zero due to symmetry considerations."
   ]
  },
  {
   "cell_type": "markdown",
   "metadata": {
    "slideshow": {
     "slide_type": "slide"
    }
   },
   "source": [
    "We keep the lowest order, nonzero correction term in the gradient of the concentration.  These assumptions can be relaxed for different applications.  Once the bulk free energy, $f_v$, is identified it is possible to find the function $\\phi(x)$ that makes the integral an extreme value.  The functional is therefore composed of two parts, a bulk energy and a gradient energy:\n",
    "\n",
    "$$\n",
    "\\mathscr{L} = \\int_V \\mathscr{F}(\\phi, \\nabla \\phi)\\; \\delta V = \\int_V f_v(\\phi, T) + K (\\nabla \\phi)^2 \\; \\delta V\n",
    "$$"
   ]
  },
  {
   "cell_type": "markdown",
   "metadata": {
    "slideshow": {
     "slide_type": "slide"
    }
   },
   "source": [
    "We can do this analytically for a pure material, but most other applications require relaxation/numerical methods."
   ]
  },
  {
   "cell_type": "markdown",
   "metadata": {
    "slideshow": {
     "slide_type": "slide"
    }
   },
   "source": [
    "## A Homogeneous Free Energy Function\n",
    "----\n",
    "\n",
    "It is necessary to have a smooth function that links the order parameter to other thermodynamic variables such as temperature or composition.  There are two so-called helper functions that help the modeler homogenize the free energy.  The interpolating function, $p(\\phi)$ and the double well function $g(\\phi)$ are used for this purpose.  For reference they are plotted below."
   ]
  },
  {
   "cell_type": "code",
   "execution_count": null,
   "metadata": {
    "slideshow": {
     "slide_type": "skip"
    }
   },
   "outputs": [],
   "source": [
    "import matplotlib.pyplot as plt\n",
    "import numpy as np\n",
    "%matplotlib notebook\n",
    "\n",
    "def plot_p_and_g():\n",
    "    phi = np.linspace(-0.1, 1.1, 200)\n",
    "    g=phi**2*(1-phi)**2\n",
    "    p=phi**3*(6*phi**2-15*phi+10)\n",
    "\n",
    "    # Changed 3 to 1 in the figure call.\n",
    "    plt.figure(1, figsize=(10,5))\n",
    "    plt.subplot(121)\n",
    "    plt.plot(phi, g, linewidth=1.0);\n",
    "    plt.xlabel('$\\phi$', fontsize=12)\n",
    "    plt.ylabel('$g(\\phi)$', fontsize=12)\n",
    "\n",
    "    plt.subplot(122)\n",
    "    plt.plot(phi, p, linewidth=1.0);\n",
    "    plt.xlabel('$\\phi$', fontsize=12)\n",
    "    plt.ylabel('$p(\\phi)$', fontsize=12)\n",
    "    \n",
    "    return"
   ]
  },
  {
   "cell_type": "code",
   "execution_count": null,
   "metadata": {
    "slideshow": {
     "slide_type": "slide"
    }
   },
   "outputs": [],
   "source": [
    "plot_p_and_g()"
   ]
  },
  {
   "cell_type": "markdown",
   "metadata": {
    "slideshow": {
     "slide_type": "slide"
    }
   },
   "source": [
    "## Example 1A: Pure Material\n",
    "----\n",
    "\n",
    "\n",
    "Using the Lagrangian with the squared gradient correction and the helper functions we are ready to construct the free energy of a pure system.  We start by using the ordinary free energy of the pure components:\n",
    "\n",
    " * Pure A, liquid phase - $f_A^L(T)$\n",
    " * Pure A, solid phase - $f_A^S(T)$\n",
    "\n",
    "As we will be limiting ourselves to a pure material at this time, these are the only two free energies we need.  Near the melting point these free energies are often modeled as straight lines using the relationship for the Gibbs free energy:\n",
    "\n",
    "$$G = H - TS$$"
   ]
  },
  {
   "cell_type": "markdown",
   "metadata": {
    "slideshow": {
     "slide_type": "slide"
    }
   },
   "source": [
    "taking H and S to be constants.  Following conventions of the phase diagram modeling community we take the reference state of the component A to be the equilibrium phase at STP.  If this were a metal like Cu then the reference state would be the FCC phase.  For us, that will be the SOLID.  This sets:\n",
    "\n",
    "$$f_A^S(T) = 0$$\n",
    "\n",
    "Expanding the difference in free energy between the solid and the liquid around the melting point results in:\n",
    "\n",
    "$$f_A^L(T)-f_A^S(T) = L_A \\frac{(T_M^A - T)}{T_M^A}$$"
   ]
  },
  {
   "cell_type": "markdown",
   "metadata": {
    "slideshow": {
     "slide_type": "slide"
    }
   },
   "source": [
    "The next step is to homogenize the free energy for component A.  We build the free energy $f(\\phi,T)_A$ as follows:\n",
    "\n",
    "$$f(\\phi,T)_A = W_A~g(\\phi) + f_L p(\\phi) + f_S (1-p(\\phi))$$"
   ]
  },
  {
   "cell_type": "code",
   "execution_count": null,
   "metadata": {
    "slideshow": {
     "slide_type": "skip"
    }
   },
   "outputs": [],
   "source": [
    "%matplotlib notebook\n",
    "import matplotlib.pyplot as plt\n",
    "import numpy as np\n",
    "from mpl_toolkits.mplot3d import Axes3D\n",
    "from matplotlib.ticker import LinearLocator, FormatStrFormatter\n",
    "\n",
    "def plot_homogeneous_F():\n",
    "    plt.fig = plt.figure(2, figsize=(5,5))\n",
    "    plt.ax = plt.fig.gca(projection='3d')\n",
    "\n",
    "    phi = np.linspace(0.0, 1.0, 100)\n",
    "    temperature = np.linspace(0.0, 1.0, 100)\n",
    "    phi,temperature = np.meshgrid(phi,temperature)\n",
    "\n",
    "    W=30.0\n",
    "    L=1.0\n",
    "    Tm=0.5\n",
    "    g=phi**2*(1-phi)**2\n",
    "    p=phi**3*(6*phi**2-15*phi+10)\n",
    "\n",
    "    f = W*g+L*p*(Tm-temperature)/Tm\n",
    "\n",
    "    energyPlot = plt.ax.plot_surface(phi, temperature, f, label=None, \n",
    "                    cmap=plt.cm.coolwarm, rstride=5, cstride=5, alpha=0.5)\n",
    "    energyPlot = plt.contour(phi, temperature, f, 20)\n",
    "\n",
    "    plt.clabel(energyPlot, inline=1, fontsize=10)\n",
    "    plt.ax.set_xlabel('$\\phi$')\n",
    "    plt.ax.set_ylabel('T')\n",
    "    plt.ax.set_zlabel('$f(\\phi,t)$')\n",
    "    \n",
    "    return"
   ]
  },
  {
   "cell_type": "markdown",
   "metadata": {
    "slideshow": {
     "slide_type": "slide"
    }
   },
   "source": [
    "so that:\n",
    "\n",
    "$$f(\\phi,T)_A = W_A~g(\\phi) + L_A \\frac{(T_M^A - T)}{T_M^A}p(\\phi)$$\n",
    "\n",
    "Plotting this and viewing the results from different angles will help us see how more traditional treatments are embedded within a continuous energy space."
   ]
  },
  {
   "cell_type": "code",
   "execution_count": null,
   "metadata": {
    "slideshow": {
     "slide_type": "slide"
    }
   },
   "outputs": [],
   "source": [
    "plot_homogeneous_F()"
   ]
  },
  {
   "cell_type": "markdown",
   "metadata": {
    "slideshow": {
     "slide_type": "slide"
    }
   },
   "source": [
    "## The Analytic Solution\n",
    "----\n",
    "\n",
    "If we are at the melting temperature, the temeprature dependent term goes to zero and we are left with:\n",
    "\n",
    "$$\n",
    "F(\\phi,\\phi') = W \\phi^2 (1-\\phi)^2 + \\epsilon (\\nabla \\phi)^2\n",
    "$$\n",
    "\n",
    "Applying the Euler-Lagrange equation to our functional we get:\n",
    "\n",
    "\\begin{align}\n",
    "\\frac{\\delta F}{\\delta \\phi} & = \\frac{\\partial F}{\\partial \\phi} - \\frac{d}{dx} \\frac{\\partial F}{\\partial \\nabla \\phi} = 0 \\\\ &= 2 W \\phi \\left(\\phi - 1\\right) \\left(2 \\phi - 1\\right) - 2 \\epsilon \\nabla^2  \\phi = 0\n",
    "\\end{align}\n",
    "\n",
    "recall that $\\phi(x,t)$ and this equation implies equilibrium."
   ]
  },
  {
   "cell_type": "markdown",
   "metadata": {
    "slideshow": {
     "slide_type": "slide"
    }
   },
   "source": [
    "There is a fair bit of algebra and a few assumptions that enable the solution to the Euler-Lagrange equation above:\n",
    "\n",
    "* First - assume that you are at the melting temperature.  The rationale is that this is the only temperature where BOTH phases CO-EXIST.  Any other temperature and it does not make sense to discuss an interface.  This removes the second term on the RHS of the above expression.\n",
    "* Second - you can use $\\frac{d\\phi}{dx}$ as an integrating factor to take the first integral of the Euler-Lagrange equation.\n",
    "* Third - after evaluating the constant (C=0 is the answer) the equation is seperable and can be integrated.\n",
    " \n",
    "The result is:\n",
    " \n",
    "$$\\phi(x) = \\frac{1}{2} \\Big[ 1 + \\tanh \\Big( \\frac{x}{2\\delta} \\Big) \\Big]$$\n",
    " \n",
    "where $\\delta$ (the interface thickness) is related to the $W$ and $\\epsilon$ parameters and can also be related to $\\gamma$ (the surface energy). "
   ]
  },
  {
   "cell_type": "code",
   "execution_count": null,
   "metadata": {
    "slideshow": {
     "slide_type": "skip"
    }
   },
   "outputs": [],
   "source": [
    "%matplotlib notebook\n",
    "import matplotlib.pyplot as plt\n",
    "import numpy as np\n",
    "from ipywidgets import interact, fixed\n",
    "\n",
    "fig = None\n",
    "def plot_equilibrium(W=500.0, epsilon=1.0):\n",
    "    global fig\n",
    "    if fig: plt.close(fig)\n",
    "    fig = plt.figure()\n",
    "    x = np.linspace(-1.0, 1.0, 200)\n",
    "    phi = 0.5*(1+np.tanh(x*np.sqrt(2*W)/(2*epsilon)))\n",
    "    plt.plot(x, phi, linewidth=1.0)\n",
    "    plt.xlabel('$x$', fontsize=12)\n",
    "    plt.ylabel('$\\phi(x)$', fontsize=12)    \n",
    "    plt.show()\n",
    "    return"
   ]
  },
  {
   "cell_type": "code",
   "execution_count": null,
   "metadata": {
    "slideshow": {
     "slide_type": "slide"
    }
   },
   "outputs": [],
   "source": [
    "interact(plot_equilibrium, W=(0.001,1000,10), epsilon=fixed(1.0));"
   ]
  },
  {
   "cell_type": "markdown",
   "metadata": {},
   "source": [
    "## Takeaways\n",
    "----\n",
    "\n",
    "* The pure material illustrates how the thermodynamics relates to the order parameter.\n",
    "* The analytical solution illustrates more clearly the $W$ and $\\epsilon$ parameters in terms of the interface shape, from this we can precisely compute the excess Gibbs energy due to the interface (the surface energy) and the interface thickness.\n",
    "* Analytic solutions are not available (and likely not possible) for the alloy or more complicated cases.  A relaxation method is used, instead.\n"
   ]
  },
  {
   "cell_type": "markdown",
   "metadata": {
    "slideshow": {
     "slide_type": "slide"
    }
   },
   "source": [
    "## Solving the PDE Using Relaxation\n",
    "----\n",
    "\n",
    "With the bulk free energy and the gradient energy contributions conceptually justified it is now necessary to identify the equations of motion.  In the non conserved case:\n",
    "\n",
    "$$\n",
    "\\frac{\\partial \\phi}{\\partial t} = -M \\frac{\\delta F}{\\delta \\phi}\n",
    "$$\n",
    "\n",
    "and for a conserved order parameter the equations of motion are derived from:\n",
    "\n",
    "$$\n",
    "\\frac{\\partial \\phi}{\\partial t} = \\nabla \\cdot D \\nabla \\frac{\\delta F}{\\delta \\phi}\n",
    "$$\n",
    "\n",
    "There are other choices, but these are the simplest choices that guarantee a free energy decrease with time."
   ]
  },
  {
   "cell_type": "markdown",
   "metadata": {
    "slideshow": {
     "slide_type": "skip"
    }
   },
   "source": [
    "For this demonstration, FiPy will be used to solve the phase field equations.  FiPy is a vinite volume PDE solver that provides access to _diffusion_, _convection_, and _source_ terms that would be present in a typical phase field PDE.  FiPy has much more functionality then what is shown here.  \n",
    "\n",
    "FiPy is imported along with some helper functions.  This example is for a NON-conserved order parameter."
   ]
  },
  {
   "cell_type": "code",
   "execution_count": null,
   "metadata": {
    "slideshow": {
     "slide_type": "slide"
    }
   },
   "outputs": [],
   "source": [
    "%matplotlib notebook\n",
    "from fipy import *\n",
    "from IPython.display import clear_output"
   ]
  },
  {
   "cell_type": "markdown",
   "metadata": {
    "slideshow": {
     "slide_type": "skip"
    }
   },
   "source": [
    "The parameters that define our mesh are set."
   ]
  },
  {
   "cell_type": "code",
   "execution_count": null,
   "metadata": {
    "slideshow": {
     "slide_type": "slide"
    }
   },
   "outputs": [],
   "source": [
    "L = 1.\n",
    "nx = 400\n",
    "dx = L/nx"
   ]
  },
  {
   "cell_type": "markdown",
   "metadata": {
    "slideshow": {
     "slide_type": "skip"
    }
   },
   "source": [
    "We use FiPy's Grid1D method to produce a mesh and place our phase variable on that mesh."
   ]
  },
  {
   "cell_type": "code",
   "execution_count": null,
   "metadata": {
    "slideshow": {
     "slide_type": "slide"
    }
   },
   "outputs": [],
   "source": [
    "mesh = Grid1D(dx=dx, nx=nx)\n",
    "phase = CellVariable(name=\"phase\",mesh=mesh)"
   ]
  },
  {
   "cell_type": "markdown",
   "metadata": {
    "slideshow": {
     "slide_type": "skip"
    }
   },
   "source": [
    "Getting the centerpoint of each cell permits us to write geometric constraints for setting the intital conditions, etc."
   ]
  },
  {
   "cell_type": "code",
   "execution_count": null,
   "metadata": {
    "slideshow": {
     "slide_type": "slide"
    }
   },
   "outputs": [],
   "source": [
    "x = mesh.cellCenters\n",
    "phase.setValue(1.)\n",
    "phase.setValue(0., where=x > L/2)"
   ]
  },
  {
   "cell_type": "markdown",
   "metadata": {
    "slideshow": {
     "slide_type": "skip"
    }
   },
   "source": [
    "FiPy has built in viewers for observing the results."
   ]
  },
  {
   "cell_type": "code",
   "execution_count": null,
   "metadata": {
    "slideshow": {
     "slide_type": "slide"
    }
   },
   "outputs": [],
   "source": [
    "viewer = MatplotlibViewer(vars=(phase,),datamin=-0.1, datamax=1.1, legend=None)"
   ]
  },
  {
   "cell_type": "markdown",
   "metadata": {
    "slideshow": {
     "slide_type": "skip"
    }
   },
   "source": [
    "We set the remaining simulation parameters, such as the gradient energy coefficient, the double well potential, and the thermodynamic parameters.  Note the addition of the mobility $M$ for the relaxation method.  This term can be physically correlated to the atomic attachment kinetcs."
   ]
  },
  {
   "cell_type": "code",
   "execution_count": null,
   "metadata": {
    "slideshow": {
     "slide_type": "slide"
    }
   },
   "outputs": [],
   "source": [
    "eps_sqrd = 0.00025 \n",
    "M = 1.0\n",
    "W = 0.5\n",
    "Lv = 1.\n",
    "Tm = 1.\n",
    "T = 1.0\n",
    "enthalpy = Lv*(Tm-T)/Tm"
   ]
  },
  {
   "cell_type": "markdown",
   "metadata": {
    "slideshow": {
     "slide_type": "skip"
    }
   },
   "source": [
    "The final step to setup the problem is to partition our model into FiPy's terms.  In this case we have a single diffusion term.  We bundle all the remaining terms into the source term:"
   ]
  },
  {
   "cell_type": "code",
   "execution_count": null,
   "metadata": {
    "slideshow": {
     "slide_type": "slide"
    }
   },
   "outputs": [],
   "source": [
    "S0 = W*2.0*phase*(phase-1.0)*(2*phase-1.0) + 30*phase**2*(phase**2-2*phase+1)*enthalpy\n",
    "eq = TransientTerm() == DiffusionTerm(coeff=eps_sqrd*M) - S0"
   ]
  },
  {
   "cell_type": "markdown",
   "metadata": {
    "slideshow": {
     "slide_type": "skip"
    }
   },
   "source": [
    "FiPy has many solvers, we use the default solvers and call for the solution to the equations."
   ]
  },
  {
   "cell_type": "code",
   "execution_count": null,
   "metadata": {
    "slideshow": {
     "slide_type": "slide"
    }
   },
   "outputs": [],
   "source": [
    "for i in range(50):\n",
    "    eq.solve(var = phase, dt=0.1)\n",
    "    viewer.plot()\n",
    "    clear_output(wait=True)\n",
    "    display(viewer)"
   ]
  },
  {
   "cell_type": "markdown",
   "metadata": {
    "slideshow": {
     "slide_type": "slide"
    }
   },
   "source": [
    "## Example 1B:  Pair of Particles\n",
    "----\n",
    "\n",
    "The Gibbs-Thomson effect is present within the energy formulation of the phase field equations.  Because of this, curved particles in a system at the melting temperature will dissolve.  As one would expect, a flat interface is an equilibrium interface.  The example below illustrates this.  Note that the only difference between this case and the previous case is the intitial condition. "
   ]
  },
  {
   "cell_type": "code",
   "execution_count": null,
   "metadata": {
    "slideshow": {
     "slide_type": "skip"
    }
   },
   "outputs": [],
   "source": [
    "%matplotlib notebook\n",
    "from fipy import *\n",
    "from IPython.display import clear_output\n",
    "\n",
    "\n",
    "L = 1.\n",
    "nx = 200\n",
    "dx = L/nx\n",
    "dy = L/nx\n",
    "mesh = Grid2D(dx=dx, dy=dx, nx=nx, ny=nx)\n",
    "phase = CellVariable(name=\"phase\", mesh=mesh)\n",
    "x = mesh.cellCenters()[0]\n",
    "y = mesh.cellCenters()[1]\n",
    "\n",
    "phase.setValue(1.)\n",
    "x0 = 0.0\n",
    "y0 = 0.0\n",
    "\n",
    "# A slightly more complicated initial condition that takes advantage\n",
    "# of access to the cell centers.  The \"where\" syntax is very helpful.\n",
    "phase.setValue(0., where=(((x-x0)**2+(y-y0)**2 > L/3) & ((x-L)**2+(y-L)**2 > 0.2)))\n",
    "\n",
    "# If you want to start with a noisy initial condition, do this:\n",
    "# phase.setValue(ExponentialNoiseVariable(mesh=mesh, mean=0.5))\n",
    "# There are various reasons one would want to do this.\n",
    "\n",
    "viewer = Matplotlib2DGridViewer(vars=phase, datamin=0.0, datamax=1.0)\n",
    "\n",
    "eps_sqrd = 0.00025 \n",
    "M = 1.0\n",
    "W = 0.5\n",
    "Lv = 1.\n",
    "Tm = 1.\n",
    "T = 1.\n",
    "enthalpy = Lv*(Tm-T)/Tm\n",
    "\n",
    "S0 = W*2.0*phase*(phase-1.0)*(2*phase-1.0) + 30*phase**2*(phase**2-2*phase+1)*enthalpy\n",
    "eq = TransientTerm() == DiffusionTerm(coeff=eps_sqrd) - S0"
   ]
  },
  {
   "cell_type": "code",
   "execution_count": null,
   "metadata": {
    "slideshow": {
     "slide_type": "slide"
    }
   },
   "outputs": [],
   "source": [
    "for i in range(500):\n",
    "    eq.solve(var = phase, dt=0.05)\n",
    "    viewer.plot()\n",
    "    clear_output(wait=True)\n",
    "    display(viewer)"
   ]
  },
  {
   "cell_type": "markdown",
   "metadata": {
    "slideshow": {
     "slide_type": "slide"
    }
   },
   "source": [
    "## Example 2:  Spinodal Decomposition (and Order/Disorder Transformations)\n",
    "----\n",
    "\n",
    "The method is general enough to deal with more complex solutions.  We can replace the bulk free energy of a pure material with the free energy of a solid solution.  The creation of a solution can be thought of as a sequence of steps:\n",
    "\n",
    "* Compute the free energy of two unmixed systems of pure A and pure B (unmixed)\n",
    "* Mix the A and B atoms together\n",
    "* Compute the energy change upon mixing\n",
    "* Add this change in energy to the energy of the initial state (mixed)"
   ]
  },
  {
   "cell_type": "markdown",
   "metadata": {
    "slideshow": {
     "slide_type": "slide"
    }
   },
   "source": [
    "![Mixing](Mixing.png)"
   ]
  },
  {
   "cell_type": "markdown",
   "metadata": {
    "slideshow": {
     "slide_type": "skip"
    }
   },
   "source": [
    "To understand the energetics of a non-uniform system we need a model for a solution where the free energy (e.g. Gibbs or Helmholz) is a function of composition.  This is most often represented as a free energy density (energy/volume).  We will start by describing the ideal solution where the mixing process results in an entropy change alone.  In an ideal solution there is no enthalpy of mixing."
   ]
  },
  {
   "cell_type": "markdown",
   "metadata": {
    "slideshow": {
     "slide_type": "slide"
    }
   },
   "source": [
    "## No Preference for Chemical Surroundings\n",
    "----\n",
    "\n",
    "* In an ideal solution the enthalpy change (or internal energy change) is zero.\n",
    "* The entropy arises from mixing effects only.\n",
    "* Stirling's Formula is used to approximate terms due to the energy change on mixing:\n",
    "\n",
    "$$\n",
    "\\Delta G_{\\mathrm{mix, \\, id}} = RT(X_A \\ln X_A + X_B \\ln X_B)\n",
    "$$"
   ]
  },
  {
   "cell_type": "markdown",
   "metadata": {
    "slideshow": {
     "slide_type": "slide"
    }
   },
   "source": [
    "The free energy for an ideal solution can therefore be written:\n",
    "\n",
    "\\begin{align}\n",
    "G_{\\mathrm{ideal}} &= G_{\\mathrm{unmixed}} + \\Delta G_{\\mathrm{mix, \\, id}} \\\\ &= X_A G_A + X_B G_B + RT(X_A \\ln X_A + X_B \\ln X_B)\n",
    "\\end{align}"
   ]
  },
  {
   "cell_type": "code",
   "execution_count": null,
   "metadata": {
    "slideshow": {
     "slide_type": "skip"
    }
   },
   "outputs": [],
   "source": [
    "%matplotlib inline\n",
    "import numpy as np\n",
    "import matplotlib.pyplot as plt\n",
    "from ipywidgets import interact, fixed\n",
    "\n",
    "def idealSolution(GA, GB, XB, temperature):\n",
    "    \"\"\"\n",
    "    Computes the free energy of solution for an ideal binary mixture.\n",
    "    \n",
    "    Parameters\n",
    "    ----------\n",
    "    GA : float\n",
    "        The partial molar Gibbs free energy of pure A in Joules.\n",
    "    GB : float\n",
    "        The partial molar Gibbs free energy of pure B in Joules.\n",
    "    XB : ndarray\n",
    "        The mol fraction of component B as an array.\n",
    "    temperature : float\n",
    "        The temperature.\n",
    "        \n",
    "    Returns\n",
    "    -------\n",
    "    G : ndarray\n",
    "        An array of the Gibbs free energy having the same shape as `XB`.\n",
    "        \n",
    "    Examples\n",
    "    --------\n",
    "    >>> XB = np.linspace(0.01,0.99,10)\n",
    "    >>> G = idealSolution(0.0,0.0,XB,1.0)\n",
    "    >>> array([ 0.53440324, -3.72037187, -4.76282566, -3.72037187,  0.53440324])\n",
    "    \"\"\"\n",
    "    return (1.0-XB)*GA+XB*GB+8.314*temperature*((1-XB)*np.log(1-XB)+XB*np.log(XB))\n",
    "\n",
    "def myfig(temperature):\n",
    "    \"\"\"\n",
    "    This function produces a plot of the Gibbs free energy of mixing for an ideal solution.\n",
    "    \"\"\"\n",
    "    GA = 1.0\n",
    "    GB = 500.0\n",
    "    \n",
    "    XB = np.linspace(0.01,0.99,50)\n",
    "    temperatureSpace = np.linspace(1.0,100.0,10)\n",
    "    y = idealSolution(GA,GB,XB,temperature)\n",
    "    greySolutionLines = [idealSolution(GA,GB,XB,greyT) for greyT in temperatureSpace]\n",
    "    \n",
    "    fig, axes = plt.subplots(figsize=(10,8))\n",
    "    \n",
    "    for greyLine in greySolutionLines:\n",
    "        axes.plot(XB, greyLine, 'grey', alpha=0.3)\n",
    "\n",
    "    axes.plot(XB, y, 'r', label=r\"$G_A X_A + G_B X_B + RT(X_A \\ln X_A + X_B \\ln X_B)$\")\n",
    "    axes.legend()\n",
    "    axes.grid(True, linestyle='dotted')\n",
    "    axes.set_ylabel(r\"$G_{soln}$\")\n",
    "    axes.set_xlabel(r\"$X_B$\")\n",
    "    # Location for annotations can always be done by extents instead of absolute values.\n",
    "    axes.annotate(r'$G_A$='+str(GA)+'\\n'+r'$G_B$='+str(GB),xy=(0,200), size='large')\n",
    "    plt.show()\n",
    "    return"
   ]
  },
  {
   "cell_type": "code",
   "execution_count": null,
   "metadata": {
    "slideshow": {
     "slide_type": "slide"
    }
   },
   "outputs": [],
   "source": [
    "interact(myfig, temperature=(1.0,100.0,1.0));"
   ]
  },
  {
   "cell_type": "markdown",
   "metadata": {
    "slideshow": {
     "slide_type": "slide"
    }
   },
   "source": [
    "## Correcting the Ideal Solution for Local Chemical Effects\n",
    "----\n",
    "\n",
    "Compared to an ideal solution, the regular solution is a more general thermodynamic treatment.  In this case the enthalpy of mixing is nonzero.  This results from energy differences arising due to the chemistry of an atom's nearest neighbors.\n",
    "\n",
    "* In general the free energy of solution includes both enthalpic and entropic terms\n",
    "* The previous treatment of the ideal solution neglects any contribution from the enthalpy.\n",
    "* Before mixing - there are only A-A and B-B bonds and NO A-B bonds.\n",
    "* After mixing the number of A-B bonds is estimated from statistical and structural considerations to produce a model of the excess enthalpy"
   ]
  },
  {
   "cell_type": "markdown",
   "metadata": {
    "slideshow": {
     "slide_type": "slide"
    }
   },
   "source": [
    "![](Enthalpy-Nonzero.png)"
   ]
  },
  {
   "cell_type": "markdown",
   "metadata": {
    "slideshow": {
     "slide_type": "slide"
    }
   },
   "source": [
    "$$\n",
    "\\Delta H_{\\mathrm{mix}} = \\Omega(\\epsilon)X_A X_B\n",
    "$$"
   ]
  },
  {
   "cell_type": "markdown",
   "metadata": {
    "slideshow": {
     "slide_type": "slide"
    }
   },
   "source": [
    "The regular solution model is then writte as:\n",
    "\n",
    "\\begin{align}\n",
    "G_{\\mathrm{regular}} = X_A G_A + X_B G_B &+ \\Omega(\\epsilon)X_A X_B \\\\ &+ RT(X_A \\ln X_A + X_B \\ln X_B)\n",
    "\\end{align}"
   ]
  },
  {
   "cell_type": "code",
   "execution_count": null,
   "metadata": {
    "slideshow": {
     "slide_type": "skip"
    }
   },
   "outputs": [],
   "source": [
    "def regularSolution(GA, GB, XB, omega, temperature):\n",
    "    return omega*(1.0-XB)*XB+(1.0-XB)*GA+XB*GB+8.314*temperature*((1.0-XB)*np.log(1.0-XB)+XB*np.log(XB))\n",
    "\n",
    "def myfig2(omega, temperature):\n",
    "    \"\"\"\n",
    "    This function produces a plot of the Gibbs free energy of mixing for a regular solution.\n",
    "    \"\"\"\n",
    "    GA = 1.0\n",
    "    GB = 1.0\n",
    "    \n",
    "    XB = np.linspace(0.01,0.99,50)\n",
    "    temperatureSpace = np.linspace(1.0,200.0,10)\n",
    "    y = regularSolution(GA, GB, XB, omega, temperature)\n",
    "    greySolutionLines = [regularSolution(GA, GB, XB, omega, greyT) for greyT in temperatureSpace]\n",
    "    \n",
    "    fig2, axes2 = plt.subplots(figsize=(14,9))\n",
    "    \n",
    "    for greyLine in greySolutionLines:\n",
    "        axes2.plot(XB, greyLine, 'grey', alpha=0.3)\n",
    "\n",
    "    axes2.plot(XB, y, 'r', label=r\"$G_{soln}$\")\n",
    "\n",
    "    # Location for annotations can always be done by extents instead of absolute values.\n",
    "    axes2.annotate('GA='+str(GA)+'\\n'+'GB='+str(GB),xy=(0,400), fontsize=20)\n",
    "    \n",
    "    axes2.set_ylabel(r\"$G_{soln}$\", fontsize=15)\n",
    "    axes2.set_xlabel(r\"$X_B$\", fontsize=15)\n",
    "    axes2.legend(loc=\"upper right\", fontsize=15)\n",
    "    axes2.xaxis.set_tick_params(labelsize=15)\n",
    "    axes2.yaxis.set_tick_params(labelsize=15)\n",
    "    \n",
    "    plt.show()\n",
    "    return"
   ]
  },
  {
   "cell_type": "code",
   "execution_count": null,
   "metadata": {
    "slideshow": {
     "slide_type": "slide"
    }
   },
   "outputs": [],
   "source": [
    "interact(myfig2, omega=(0.0,5000.0,1.0), temperature=(1.0,200.0,1.0));"
   ]
  },
  {
   "cell_type": "markdown",
   "metadata": {
    "slideshow": {
     "slide_type": "slide"
    }
   },
   "source": [
    "## The PDE to Determine Profiles and Kinetic Evolution of a Non-Uniform System\n",
    "----\n",
    "\n",
    "$$\n",
    "F(\\phi,\\phi') = W \\phi^2 (1-\\phi)^2 + \\epsilon (\\nabla \\phi)^2\n",
    "$$\n",
    "\n",
    "Applying the Euler-Lagrange equation to our functional we get:\n",
    "\n",
    "\\begin{align}\n",
    "\\frac{\\delta F}{\\delta \\phi} & = \\frac{\\partial F}{\\partial \\phi} - \\frac{d}{dx} \\frac{\\partial F}{\\partial \\nabla \\phi} = 0 \\\\ &= 2 W \\phi \\left(\\phi - 1\\right) \\left(2 \\phi - 1\\right) - 2 \\epsilon \\nabla^2  \\phi = 0\n",
    "\\end{align}\n",
    "\n",
    "recall that $\\phi(x,t)$ and this equation implies equilibrium."
   ]
  },
  {
   "cell_type": "markdown",
   "metadata": {
    "slideshow": {
     "slide_type": "skip"
    }
   },
   "source": [
    "## Quick Aside on Writing the E.O.M.\n",
    "----\n",
    "\n",
    "When writing the equations of motion - things can get messy.  It is better therefore to write the leading term on the LHS as $A(\\phi)$.  This gives:\n",
    "\n",
    "$$\n",
    "\\frac{\\delta F}{\\delta \\phi} = A(\\phi) - \\epsilon \\frac{d^{2}}{d x^{2}}  \\phi{\\left (x \\right )}\n",
    "$$\n",
    "\n",
    "\n",
    "and for a conserved order parameter, we write:\n",
    "\n",
    "$$\n",
    "\\nabla \\cdot D \\nabla \\frac{\\delta F}{\\delta \\phi} = \\nabla \\cdot D \\left( \\frac{\\partial A}{\\partial \\phi} \\nabla \\phi(x) - \\epsilon \\frac{d^{3}}{d x^{3}} \\phi(x) \\right)\n",
    "$$\n",
    "\n",
    "By distributing the divergence and diffusion coefficient, we arrive at:\n",
    "\n",
    "$$\n",
    "\\frac{\\partial \\phi}{\\partial t} = \\nabla \\cdot D \\frac{\\partial A}{\\partial \\phi} \\nabla \\phi(x) - D \\epsilon \\nabla^4 \\phi(x)\n",
    "$$\n",
    "\n",
    "This can be solved with standard numerical techniques.  The example below is for a CONSERVED order parameter and is taken directly from FiPy's examples."
   ]
  },
  {
   "cell_type": "code",
   "execution_count": null,
   "metadata": {
    "slideshow": {
     "slide_type": "skip"
    }
   },
   "outputs": [],
   "source": [
    "%matplotlib notebook\n",
    "from IPython.display import clear_output\n",
    "from fipy import *\n",
    "nx = ny = 100\n",
    "\n",
    "mesh = Grid2D(nx=nx, ny=ny, dx=0.5, dy=0.5)\n",
    "phi = CellVariable(name=r\"$\\phi$\", mesh=mesh)\n",
    "psi = CellVariable(name=r\"$\\psi$\", mesh=mesh)\n",
    "\n",
    "noise = GaussianNoiseVariable(mesh=mesh,mean=0.5,variance=0.01).value\n",
    "phi[:] = noise\n",
    "\n",
    "viewer = Viewer(vars=phi)#, datamin=-0.1, datamax=1.1)\n",
    "\n",
    "D = a = epsilon = 1.\n",
    "dfdphi = a**2 * 2 * phi * (1 - phi) * (1 - 2 * phi)\n",
    "dfdphi_ = a**2 * 2 * (1 - phi) * (1 - 2 * phi)\n",
    "d2fdphi2 = a**2 * 2 * (1 - 6 * phi * (1 - phi))\n",
    "eq1 = (TransientTerm(var=phi) == DiffusionTerm(coeff=D, var=psi))\n",
    "eq2 = (ImplicitSourceTerm(coeff=1., var=psi) \n",
    "       == ImplicitSourceTerm(coeff=-d2fdphi2, var=phi) - d2fdphi2 * phi + dfdphi \n",
    "       - DiffusionTerm(coeff=epsilon**2, var=phi))\n",
    "eq3 = (ImplicitSourceTerm(coeff=1., var=psi) \n",
    "       == ImplicitSourceTerm(coeff=dfdphi_, var=phi)\n",
    "       - DiffusionTerm(coeff=epsilon**2, var=phi))\n",
    "\n",
    "eq = eq1 & eq3\n",
    "\n",
    "dexp = -3\n",
    "elapsed = 0.\n",
    "duration = 100.0"
   ]
  },
  {
   "cell_type": "code",
   "execution_count": null,
   "metadata": {
    "slideshow": {
     "slide_type": "slide"
    }
   },
   "outputs": [],
   "source": [
    "# Run the model.\n",
    "while elapsed < duration:\n",
    "    dt = min(100, numerix.exp(dexp))\n",
    "    elapsed += dt\n",
    "    dexp += 0.01\n",
    "    eq.solve(dt=dt)\n",
    "    viewer.plot()\n",
    "    clear_output(wait=True)\n",
    "    display(viewer)"
   ]
  },
  {
   "cell_type": "markdown",
   "metadata": {
    "slideshow": {
     "slide_type": "slide"
    }
   },
   "source": [
    "## Snapshots from the Spinodal Decomposition (Conserved) Simulation\n",
    "----\n",
    "\n",
    "![](Composite-Cropped.png)"
   ]
  },
  {
   "cell_type": "markdown",
   "metadata": {
    "slideshow": {
     "slide_type": "slide"
    }
   },
   "source": [
    "## Animation of the Simulation\n",
    "---"
   ]
  },
  {
   "cell_type": "code",
   "execution_count": null,
   "metadata": {
    "slideshow": {
     "slide_type": "fragment"
    }
   },
   "outputs": [],
   "source": [
    "%%HTML\n",
    "<video width=\"600\" height=\"600\" controls> <source src=\"./Cahn-Hilliard.mp4\" type=\"video/mp4\"> </video>"
   ]
  },
  {
   "cell_type": "markdown",
   "metadata": {
    "slideshow": {
     "slide_type": "slide"
    }
   },
   "source": [
    "## Example 3: Multi Order Parameter Phase Field\n",
    "----\n",
    "\n",
    "Multi order parameter models include one phase field for every phase (or grain) in the system.  The major concern with these models relates to the energy landscape and the sense of curvature at intermediate states.\n",
    "\n",
    "Looking carefully - all the components outlined in previous models are here, too.\n",
    "\n",
    "These models created the possibility of multiphase growth and are essential for predicting both equilibrium and out-of-equilibrium phase formation in problems like additive manufacturing."
   ]
  },
  {
   "cell_type": "markdown",
   "metadata": {
    "slideshow": {
     "slide_type": "slide"
    }
   },
   "source": [
    "The bulk free energy of our system consists of a bulk and gradient energy as before:\n",
    "\n",
    "$$F = \\int_V \\left[ w g(\\phi) + \\frac{\\epsilon^2}{2} \\sum_{i=1} (\\nabla \\phi_i)^2 \\right] dV$$\n",
    "\n",
    "where $g(\\phi)$ is the homogeneous free energy landscape connecting ALL phase field varialbes and is given by:\n",
    "\n",
    "$$g(\\phi) = \\frac{1}{12} + \\sum_{i=1}^N \\left[ \\left( \\frac{\\phi_i^4}{4} - \\frac{\\phi_i^3}{3} \\right) + \\frac{1}{2} \\sum_{i<j} \\phi_i^2 \\phi_j^2 \\right]$$"
   ]
  },
  {
   "cell_type": "markdown",
   "metadata": {},
   "source": [
    "A constraint is enforced at every point in the field:\n",
    "\n",
    "$$\n",
    "\\sum_{i=1}^N \\phi_i = 1\n",
    "$$\n",
    "\n",
    "This is dealt with by adding a Lagrange multiplier and standard variational calculus techniques."
   ]
  },
  {
   "cell_type": "markdown",
   "metadata": {
    "slideshow": {
     "slide_type": "slide"
    }
   },
   "source": [
    "Upon computing the variational derivatives, the equations to solve are as follows:\n",
    "\n",
    "$$\n",
    "\\frac{\\delta F}{\\delta \\phi_{i}} = w [ \\phi_{i} (\\sum_{j}^{N} \\phi_{j}^2 - \\phi_{i})] - \\epsilon^2 \\nabla^2 \\phi_{i}\n",
    "$$\n",
    "\n",
    "$$\n",
    "- \\frac{1}{m} \\frac{\\partial \\phi_i}{\\partial t} = \\frac{\\delta F}{\\delta \\phi_{i}} + \\frac{1}{N} \\sum_{j}^{N} \\frac{\\delta F}{\\delta \\phi_{j}}\n",
    "$$\n",
    "\n",
    "Note that there is a constraint on the local sum of all phase variables leading to the second term in the equation of motion."
   ]
  },
  {
   "cell_type": "markdown",
   "metadata": {
    "slideshow": {
     "slide_type": "slide"
    }
   },
   "source": [
    "## An Example Implementation\n",
    "----\n",
    "\n",
    "* Uses Python/Numpy features such as slicing, list comprehensions, tuple unpacking for pointer swap\n",
    "* Lots of looping over grain ids\n",
    "* Demonstrates the multi-order parameter method\n",
    "* Uses a derived variable for display of the fields"
   ]
  },
  {
   "cell_type": "code",
   "execution_count": null,
   "metadata": {
    "slideshow": {
     "slide_type": "skip"
    }
   },
   "outputs": [],
   "source": [
    "%matplotlib notebook\n",
    "\n",
    "import matplotlib\n",
    "import matplotlib.pyplot as plt\n",
    "import itertools as itt\n",
    "import random\n",
    "import numpy as np\n",
    "\n",
    "lengthx = 3.\n",
    "lengthy = 3.\n",
    "nx = 150\n",
    "dx = lengthx/nx\n",
    "ny = 150\n",
    "dy = lengthy/ny\n",
    "\n",
    "m = 1.0\n",
    "\n",
    "grains = 10\n",
    "\n",
    "width = 0.003\n",
    "gamma = 1./3.\n",
    "w = 3.*(gamma/width)\n",
    "epsilon2 = np.sqrt(3.*(width * gamma))\n",
    "\n",
    "dt = 5e-5\n",
    "\n",
    "plot_freq = 200\n",
    "steps = 7000\n",
    "\n",
    "x, y = np.linspace(0,lengthx,nx), np.linspace(0,lengthy,ny)\n",
    "dx, dy = lengthx/(nx-1), lengthy/(ny-1)\n",
    "\n",
    "# Create a list of phis.  Each phi should be an ndarray of length with nx points.\n",
    "phi_fields_old = np.zeros((grains,nx,ny))\n",
    "phi_fields_new = np.zeros((grains,nx,ny))\n",
    "\n",
    "# This is for the Lagrangian mobility.\n",
    "delFdelPhi = np.zeros((grains,nx,ny))\n",
    "\n",
    "# These are helper fields.  They don't need to be indexed by the grain.\n",
    "delFdelPhiSum = np.zeros((nx,ny))\n",
    "pair_sum = np.zeros((nx,ny))\n",
    "source = np.zeros((nx,ny))\n",
    "laplacian = np.zeros((nx,ny))\n",
    "phi_squared_sum = np.zeros((nx,ny))\n",
    "\n",
    "# Set the initial conditions for each phi field. \n",
    "radius = lengthx/20.0\n",
    "for grain in range(grains):\n",
    "    position = (lengthx-0.0)*np.random.random(size=(2)) + 0.0\n",
    "    for i in range(nx):\n",
    "        for j in range(ny):\n",
    "            if (x[i] - position[0])**2+(y[j] - position[1])**2 < radius**2:\n",
    "                phi_fields_old[grain][i,j] = 1.0\n",
    "            else:\n",
    "                pass\n",
    "\n",
    "# Noise initial condition.\n",
    "for grain in range(grains):\n",
    "    phi_fields_old[grain] = np.random.normal(1.0/grains, 0.01, (nx,ny))\n",
    "            \n",
    "for grain in range(grains):\n",
    "    # Set periodic boundary conditions on the new fields.\n",
    "    phi_fields_old[grain][0,:] = phi_fields_old[grain][-2,:]\n",
    "    phi_fields_old[grain][:,0] = phi_fields_old[grain][:,-2]\n",
    "    phi_fields_old[grain][-1,:] = phi_fields_old[grain][1,:]\n",
    "    phi_fields_old[grain][:,-1] = phi_fields_old[grain][:,1]\n",
    "\n",
    "# Put figure setup code here.\n",
    "fig = plt.figure(figsize=(10,10))\n",
    "im = plt.imshow(pair_sum, vmin=np.min(pair_sum), vmax=np.max(pair_sum), cmap='rainbow')\n",
    "\n",
    "# Define the laplacian function here for compiling.  Use Numba.\n",
    "def laplacian2D(field, dx, dy):\n",
    "    \"\"\"\n",
    "    laplacian2D(field, dx, dy)\n",
    "    \n",
    "    This function computes the 2D Laplacian for a field passed to it.\n",
    "    The return shape is the interior of the array so the assignment for \n",
    "    this function should look like:  \n",
    "    \n",
    "    laplacian[1:-1,1:-1] = laplacian2D(field,dx,dy)\n",
    "    \n",
    "    I guess at some point, I should fix this or pad the results and/or \n",
    "    grab a little memory to get the shape right.\n",
    "    \n",
    "    Parameters:\n",
    "    field:  Numpy nd array on which to compute the Laplacian.\n",
    "    dx: the grid spacing in the x direction (first index)\n",
    "    dy: the grid spacing in the y direction (second index)\n",
    "    \"\"\"\n",
    "    return ( \\\n",
    "            (field[0:-2,1:-1] - 2*field[1:-1,1:-1] + field[2:,1:-1])/dx/dx + \\\n",
    "            (field[1:-1,0:-2] - 2*field[1:-1,1:-1] + field[1:-1,2:])/dy/dy \\\n",
    "           )\n",
    "\n",
    "#from numba import double\n",
    "#from numba.decorators import jit, autojit\n",
    "#laplacian2D_numba = autojit(laplacian2D)\n",
    "\n",
    "# This is the timestep loop.\n",
    "for step in range(steps):\n",
    "    \n",
    "    # Compute all the phi squared values\n",
    "    phi_squared_sum = sum([phi_fields_old[i]**2 for i in range(grains)])\n",
    "\n",
    "    # Compute all the delFdelPhi terms first as they are needed at each timestep.\n",
    "    for grain in range(grains):\n",
    "        source = w*(phi_fields_old[grain]*(phi_squared_sum - phi_fields_old[grain]))\n",
    "\n",
    "        laplacian[1:-1,1:-1] = epsilon2*laplacian2D(phi_fields_old[grain],dx,dy)\n",
    "        #laplacian[1:-1,1:-1] = epsilon2*laplacian2D_numba(phi_fields_old[grain],dx,dy)\n",
    "        \n",
    "        delFdelPhi[grain] = source - laplacian\n",
    "    \n",
    "    delFdelPhiSum = sum([delFdelPhi[i] for i in range(grains)])\n",
    "    \n",
    "    for grain in range(grains):\n",
    "        \n",
    "        # Compute the new values of phi.\n",
    "        phi_fields_new[grain] = \\\n",
    "        -m*dt*(delFdelPhi[grain] + (1.0/grains)*(delFdelPhiSum)) + phi_fields_old[grain]\n",
    "        \n",
    "        # Set periodic boundary conditions on the new fields.\n",
    "        phi_fields_new[grain][0,:] = phi_fields_new[grain][-2,:]\n",
    "        phi_fields_new[grain][:,0] = phi_fields_new[grain][:,-2]\n",
    "        phi_fields_new[grain][-1,:] = phi_fields_new[grain][1,:]\n",
    "        phi_fields_new[grain][:,-1] = phi_fields_new[grain][:,1]\n",
    "\n",
    "    # Swap and repeat.\n",
    "    phi_fields_new, phi_fields_old = phi_fields_old, phi_fields_new\n",
    "    \n",
    "    if step%plot_freq==0:\n",
    "        \n",
    "        pair_sum = np.zeros((nx,ny))\n",
    "        pair_sum = sum(\n",
    "            [\n",
    "            phi_fields_old[pairs[0]]**2 * phi_fields_old[pairs[1]]**2 \\\n",
    "            for pairs in itt.combinations(np.arange(grains),2)\n",
    "            ]\n",
    "        )\n",
    "        plt.imshow(pair_sum, vmin=np.min(pair_sum), vmax=np.max(pair_sum), cmap='rainbow')\n",
    "        im.set_data(pair_sum)\n",
    "        fig.canvas.draw()"
   ]
  },
  {
   "cell_type": "markdown",
   "metadata": {
    "slideshow": {
     "slide_type": "slide"
    }
   },
   "source": [
    "## Summary\n",
    "----\n",
    "\n",
    "* We have examined pure material, solutions, and multiphase phase field models\n",
    "* These are the core models for building more realistic and complex systems\n",
    "* Understanding these methods will permit understanding and development of models such as those used for additive manufacturing.\n",
    "* The difficult part of phase field modeling (beyond the solution algorithms) is to ensure the free energy landscape is physically meaningful at the intermediate states (e.g. at the interface).  This is especially important in multi-order parameter models."
   ]
  },
  {
   "cell_type": "markdown",
   "metadata": {
    "slideshow": {
     "slide_type": "skip"
    }
   },
   "source": [
    "----\n",
    "November 28, 2018  "
   ]
  }
 ],
 "metadata": {
  "celltoolbar": "Slideshow",
  "kernelspec": {
   "display_name": "Python 2",
   "language": "python",
   "name": "python2"
  },
  "language_info": {
   "codemirror_mode": {
    "name": "ipython",
    "version": 2
   },
   "file_extension": ".py",
   "mimetype": "text/x-python",
   "name": "python",
   "nbconvert_exporter": "python",
   "pygments_lexer": "ipython2",
   "version": "2.7.15"
  }
 },
 "nbformat": 4,
 "nbformat_minor": 2
}
