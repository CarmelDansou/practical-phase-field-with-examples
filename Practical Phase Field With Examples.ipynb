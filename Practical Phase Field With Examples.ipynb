{
 "cells": [
  {
   "cell_type": "markdown",
   "metadata": {
    "slideshow": {
     "slide_type": "slide"
    }
   },
   "source": [
    "## Practical Phase Field With Examples\n",
    "\n",
    "Dan Lewis  \n",
    "Rensselaer Polytechnic Institute  \n",
    "lewisd2@rpi.edu"
   ]
  },
  {
   "cell_type": "markdown",
   "metadata": {
    "slideshow": {
     "slide_type": "slide"
    }
   },
   "source": [
    "## Outline\n",
    "\n",
    "This presentation covers three essential models that provide the basis for phase field modeling:\n",
    "\n",
    "1.  A Pure Material\n",
    "1.  Spinodal Decomposition (and Order Disorder Transformations)\n",
    "1.  Multi-Order Parameter Models"
   ]
  },
  {
   "cell_type": "markdown",
   "metadata": {
    "slideshow": {
     "slide_type": "slide"
    }
   },
   "source": [
    "##  Getting Started\n",
    "\n",
    "To use these notes you will need:\n",
    "\n",
    "* A Python installation (such as Anaconda)\n",
    "* The FiPy PDE solving package (installed via Python commands)\n",
    "* The ability to start and use basic functionality of the Jupyter Notebook \n",
    "* An understanding of basic numerical methods"
   ]
  },
  {
   "cell_type": "markdown",
   "metadata": {
    "slideshow": {
     "slide_type": "skip"
    }
   },
   "source": [
    "## References\n",
    "\n",
    "* W. J. Boettinger, J. A. Warren, et al., \"Phase Field Simulation of Solidification\", Annual Review of Materials Research, v32, p163-194 (2002)\n",
    "* Free Energy of a Nonuniform System. I. Interfacial Free Energy, Journal of chemical Physics, v28, n2, p258-267 (1958) \n",
    "* R. DeHoff, \"Thermodynamics in Materials Science\", CRC Press, 2006\n",
    "* FiPy at http://www.nist.gov"
   ]
  },
  {
   "cell_type": "markdown",
   "metadata": {
    "slideshow": {
     "slide_type": "slide"
    }
   },
   "source": [
    "## Introduction\n",
    "----\n",
    "\n",
    "* The phase field method makes possible the study of complex microstructural morphologies such as dendritic and eutectic solidification as well as polycrystalline growth.  \n",
    "* The major contribution of the method is the introduction of an order parameter used to delineate phases such as solid/liquid, $\\alpha~/~\\beta$, etc.  The concept of an order parameter is not new.  However, smoothly varying this order parameter through an interphase interface frees us from tracking the interface position and applying boundary conditions at interfaces having complex morphologies.\n",
    "* Three \"building block\" models are important for study, 1) the pure material, 2) a chemical solution model, and 3) a multiphase model.  These three models are the basis for other complex models."
   ]
  },
  {
   "cell_type": "markdown",
   "metadata": {
    "slideshow": {
     "slide_type": "skip"
    }
   },
   "source": [
    "A small excerpt from Boettinger's review paper (cited above):\n",
    "\n",
    ">The method employs a phase-field variable, e.g., $\\phi$, which is a function of position and time, to describe whether the material is liquid or solid. The behavior of this variable is governed by an equation that is coupled to equations for heat\n",
    "and solute transport. Interfaces between liquid and solid are described by smooth but highly localized changes of this variable between fixed values that represent solid and liquid, (in this review, 0 and 1, respectively).\n",
    "\n",
    "Using the order parameter in this way makes it easier to calculate solidification microstructures - we no longer have to track the interface.  The shape (while changing from 0 to 1) of this interface is a balance between two forces.  The energy increase for intermediate states between solid and liquid (from the bulk free energy) and energy costs associated with steep gradients in the phase-field order parameter."
   ]
  },
  {
   "cell_type": "markdown",
   "metadata": {
    "slideshow": {
     "slide_type": "slide"
    }
   },
   "source": [
    "## The Free Energy of a Non-Uniform System\n",
    "----\n",
    "\n",
    "Cahn and Hilliard identified the lowest order correction to the free energy density that arises from the presence of an interface.  Inclusion of this term forms the energetic basis for the phase-field method.\n",
    "\n",
    "If the temperature and pressure are our process variables, then we can use the Gibbs free energy.  The total energy of the system is found by integrating the Gibbs free energy density over the volume of the system.  Furthermore we assume that the order parameter (and/or composition) and powers of the derivatives of order parameter all contribute to the free energy and are independent:\n",
    "\n",
    "$$\n",
    "\\mathscr{F} = \\int_V f_v(\\phi, \\nabla \\phi, \\nabla^2 \\phi, ...) \\delta V\n",
    "$$"
   ]
  },
  {
   "cell_type": "markdown",
   "metadata": {
    "slideshow": {
     "slide_type": "slide"
    }
   },
   "source": [
    "It is possible to expand the integrand explicitly in powers of the independent parameters (a multivariate Taylor series), in a shorthand notation we write an equivalent statement:\n",
    "\n",
    "$$\n",
    "f_v = f_v^0 + L \\nabla \\phi + K_1 \\nabla^2 \\phi + K_2 (\\nabla \\phi)^2 + \\; ...\n",
    "$$\n",
    "\n",
    "with\n",
    "\n",
    "$$\n",
    "L = \\left( \\frac{\\partial f_v}{\\partial (\\nabla \\phi)} \\right)\n",
    "$$\n",
    "\n",
    "and **other similar terms** as per the Taylor's Series expansion above treating $\\phi$ and all higher order derivatives as independent parameters in the free energy space.  These extra terms can be viewed as \"correction\" terms in the approximation of the free energy density near equilibrium.\n",
    "\n",
    "Other terms are argued to be zero due to symmetry considerations."
   ]
  },
  {
   "cell_type": "markdown",
   "metadata": {
    "slideshow": {
     "slide_type": "slide"
    }
   },
   "source": [
    "We keep the lowest order, nonzero correction term in the gradient of the concentration.  These assumptions can be relaxed for different applications.  Once the bulk free energy, $f_v$, is identified it is possible to find the function $\\phi(x)$ that makes the integral an extreme value.  The functional is therefore composed of two parts, a bulk energy and a gradient energy:\n",
    "\n",
    "$$\n",
    "\\mathscr{L} = \\int_V \\mathscr{F}(\\phi, \\nabla \\phi)\\; \\delta V = \\int_V f_v(\\phi, T) + K (\\nabla \\phi)^2 \\; \\delta V\n",
    "$$"
   ]
  },
  {
   "cell_type": "markdown",
   "metadata": {
    "slideshow": {
     "slide_type": "slide"
    }
   },
   "source": [
    "We can do this analytically for a pure material, but most other applications require relaxation/numerical methods."
   ]
  },
  {
   "cell_type": "markdown",
   "metadata": {
    "slideshow": {
     "slide_type": "slide"
    }
   },
   "source": [
    "## A Homogeneous Free Energy Function\n",
    "----\n",
    "\n",
    "It is necessary to have a smooth function that links the order parameter to other thermodynamic variables such as temperature or composition.  There are two so-called helper functions that help the modeler homogenize the free energy.  The interpolating function, $p(\\phi)$ and the double well function $g(\\phi)$ are used for this purpose.  For reference they are plotted below."
   ]
  },
  {
   "cell_type": "code",
   "execution_count": 3,
   "metadata": {
    "slideshow": {
     "slide_type": "skip"
    }
   },
   "outputs": [],
   "source": [
    "import matplotlib.pyplot as plt\n",
    "import numpy as np\n",
    "%matplotlib notebook\n",
    "\n",
    "def plot_p_and_g():\n",
    "    phi = np.linspace(-0.1, 1.1, 200)\n",
    "    g=phi**2*(1-phi)**2\n",
    "    p=phi**3*(6*phi**2-15*phi+10)\n",
    "\n",
    "    # Changed 3 to 1 in the figure call.\n",
    "    plt.figure(1, figsize=(10,5))\n",
    "    plt.subplot(121)\n",
    "    plt.plot(phi, g, linewidth=1.0);\n",
    "    plt.xlabel('$\\phi$', fontsize=12)\n",
    "    plt.ylabel('$g(\\phi)$', fontsize=12)\n",
    "\n",
    "    plt.subplot(122)\n",
    "    plt.plot(phi, p, linewidth=1.0);\n",
    "    plt.xlabel('$\\phi$', fontsize=12)\n",
    "    plt.ylabel('$p(\\phi)$', fontsize=12)\n",
    "    \n",
    "    return"
   ]
  },
  {
   "cell_type": "code",
   "execution_count": 4,
   "metadata": {
    "slideshow": {
     "slide_type": "slide"
    }
   },
   "outputs": [
    {
     "data": {
      "application/javascript": [
       "/* Put everything inside the global mpl namespace */\n",
       "window.mpl = {};\n",
       "\n",
       "\n",
       "mpl.get_websocket_type = function() {\n",
       "    if (typeof(WebSocket) !== 'undefined') {\n",
       "        return WebSocket;\n",
       "    } else if (typeof(MozWebSocket) !== 'undefined') {\n",
       "        return MozWebSocket;\n",
       "    } else {\n",
       "        alert('Your browser does not have WebSocket support.' +\n",
       "              'Please try Chrome, Safari or Firefox ≥ 6. ' +\n",
       "              'Firefox 4 and 5 are also supported but you ' +\n",
       "              'have to enable WebSockets in about:config.');\n",
       "    };\n",
       "}\n",
       "\n",
       "mpl.figure = function(figure_id, websocket, ondownload, parent_element) {\n",
       "    this.id = figure_id;\n",
       "\n",
       "    this.ws = websocket;\n",
       "\n",
       "    this.supports_binary = (this.ws.binaryType != undefined);\n",
       "\n",
       "    if (!this.supports_binary) {\n",
       "        var warnings = document.getElementById(\"mpl-warnings\");\n",
       "        if (warnings) {\n",
       "            warnings.style.display = 'block';\n",
       "            warnings.textContent = (\n",
       "                \"This browser does not support binary websocket messages. \" +\n",
       "                    \"Performance may be slow.\");\n",
       "        }\n",
       "    }\n",
       "\n",
       "    this.imageObj = new Image();\n",
       "\n",
       "    this.context = undefined;\n",
       "    this.message = undefined;\n",
       "    this.canvas = undefined;\n",
       "    this.rubberband_canvas = undefined;\n",
       "    this.rubberband_context = undefined;\n",
       "    this.format_dropdown = undefined;\n",
       "\n",
       "    this.image_mode = 'full';\n",
       "\n",
       "    this.root = $('<div/>');\n",
       "    this._root_extra_style(this.root)\n",
       "    this.root.attr('style', 'display: inline-block');\n",
       "\n",
       "    $(parent_element).append(this.root);\n",
       "\n",
       "    this._init_header(this);\n",
       "    this._init_canvas(this);\n",
       "    this._init_toolbar(this);\n",
       "\n",
       "    var fig = this;\n",
       "\n",
       "    this.waiting = false;\n",
       "\n",
       "    this.ws.onopen =  function () {\n",
       "            fig.send_message(\"supports_binary\", {value: fig.supports_binary});\n",
       "            fig.send_message(\"send_image_mode\", {});\n",
       "            if (mpl.ratio != 1) {\n",
       "                fig.send_message(\"set_dpi_ratio\", {'dpi_ratio': mpl.ratio});\n",
       "            }\n",
       "            fig.send_message(\"refresh\", {});\n",
       "        }\n",
       "\n",
       "    this.imageObj.onload = function() {\n",
       "            if (fig.image_mode == 'full') {\n",
       "                // Full images could contain transparency (where diff images\n",
       "                // almost always do), so we need to clear the canvas so that\n",
       "                // there is no ghosting.\n",
       "                fig.context.clearRect(0, 0, fig.canvas.width, fig.canvas.height);\n",
       "            }\n",
       "            fig.context.drawImage(fig.imageObj, 0, 0);\n",
       "        };\n",
       "\n",
       "    this.imageObj.onunload = function() {\n",
       "        fig.ws.close();\n",
       "    }\n",
       "\n",
       "    this.ws.onmessage = this._make_on_message_function(this);\n",
       "\n",
       "    this.ondownload = ondownload;\n",
       "}\n",
       "\n",
       "mpl.figure.prototype._init_header = function() {\n",
       "    var titlebar = $(\n",
       "        '<div class=\"ui-dialog-titlebar ui-widget-header ui-corner-all ' +\n",
       "        'ui-helper-clearfix\"/>');\n",
       "    var titletext = $(\n",
       "        '<div class=\"ui-dialog-title\" style=\"width: 100%; ' +\n",
       "        'text-align: center; padding: 3px;\"/>');\n",
       "    titlebar.append(titletext)\n",
       "    this.root.append(titlebar);\n",
       "    this.header = titletext[0];\n",
       "}\n",
       "\n",
       "\n",
       "\n",
       "mpl.figure.prototype._canvas_extra_style = function(canvas_div) {\n",
       "\n",
       "}\n",
       "\n",
       "\n",
       "mpl.figure.prototype._root_extra_style = function(canvas_div) {\n",
       "\n",
       "}\n",
       "\n",
       "mpl.figure.prototype._init_canvas = function() {\n",
       "    var fig = this;\n",
       "\n",
       "    var canvas_div = $('<div/>');\n",
       "\n",
       "    canvas_div.attr('style', 'position: relative; clear: both; outline: 0');\n",
       "\n",
       "    function canvas_keyboard_event(event) {\n",
       "        return fig.key_event(event, event['data']);\n",
       "    }\n",
       "\n",
       "    canvas_div.keydown('key_press', canvas_keyboard_event);\n",
       "    canvas_div.keyup('key_release', canvas_keyboard_event);\n",
       "    this.canvas_div = canvas_div\n",
       "    this._canvas_extra_style(canvas_div)\n",
       "    this.root.append(canvas_div);\n",
       "\n",
       "    var canvas = $('<canvas/>');\n",
       "    canvas.addClass('mpl-canvas');\n",
       "    canvas.attr('style', \"left: 0; top: 0; z-index: 0; outline: 0\")\n",
       "\n",
       "    this.canvas = canvas[0];\n",
       "    this.context = canvas[0].getContext(\"2d\");\n",
       "\n",
       "    var backingStore = this.context.backingStorePixelRatio ||\n",
       "\tthis.context.webkitBackingStorePixelRatio ||\n",
       "\tthis.context.mozBackingStorePixelRatio ||\n",
       "\tthis.context.msBackingStorePixelRatio ||\n",
       "\tthis.context.oBackingStorePixelRatio ||\n",
       "\tthis.context.backingStorePixelRatio || 1;\n",
       "\n",
       "    mpl.ratio = (window.devicePixelRatio || 1) / backingStore;\n",
       "\n",
       "    var rubberband = $('<canvas/>');\n",
       "    rubberband.attr('style', \"position: absolute; left: 0; top: 0; z-index: 1;\")\n",
       "\n",
       "    var pass_mouse_events = true;\n",
       "\n",
       "    canvas_div.resizable({\n",
       "        start: function(event, ui) {\n",
       "            pass_mouse_events = false;\n",
       "        },\n",
       "        resize: function(event, ui) {\n",
       "            fig.request_resize(ui.size.width, ui.size.height);\n",
       "        },\n",
       "        stop: function(event, ui) {\n",
       "            pass_mouse_events = true;\n",
       "            fig.request_resize(ui.size.width, ui.size.height);\n",
       "        },\n",
       "    });\n",
       "\n",
       "    function mouse_event_fn(event) {\n",
       "        if (pass_mouse_events)\n",
       "            return fig.mouse_event(event, event['data']);\n",
       "    }\n",
       "\n",
       "    rubberband.mousedown('button_press', mouse_event_fn);\n",
       "    rubberband.mouseup('button_release', mouse_event_fn);\n",
       "    // Throttle sequential mouse events to 1 every 20ms.\n",
       "    rubberband.mousemove('motion_notify', mouse_event_fn);\n",
       "\n",
       "    rubberband.mouseenter('figure_enter', mouse_event_fn);\n",
       "    rubberband.mouseleave('figure_leave', mouse_event_fn);\n",
       "\n",
       "    canvas_div.on(\"wheel\", function (event) {\n",
       "        event = event.originalEvent;\n",
       "        event['data'] = 'scroll'\n",
       "        if (event.deltaY < 0) {\n",
       "            event.step = 1;\n",
       "        } else {\n",
       "            event.step = -1;\n",
       "        }\n",
       "        mouse_event_fn(event);\n",
       "    });\n",
       "\n",
       "    canvas_div.append(canvas);\n",
       "    canvas_div.append(rubberband);\n",
       "\n",
       "    this.rubberband = rubberband;\n",
       "    this.rubberband_canvas = rubberband[0];\n",
       "    this.rubberband_context = rubberband[0].getContext(\"2d\");\n",
       "    this.rubberband_context.strokeStyle = \"#000000\";\n",
       "\n",
       "    this._resize_canvas = function(width, height) {\n",
       "        // Keep the size of the canvas, canvas container, and rubber band\n",
       "        // canvas in synch.\n",
       "        canvas_div.css('width', width)\n",
       "        canvas_div.css('height', height)\n",
       "\n",
       "        canvas.attr('width', width * mpl.ratio);\n",
       "        canvas.attr('height', height * mpl.ratio);\n",
       "        canvas.attr('style', 'width: ' + width + 'px; height: ' + height + 'px;');\n",
       "\n",
       "        rubberband.attr('width', width);\n",
       "        rubberband.attr('height', height);\n",
       "    }\n",
       "\n",
       "    // Set the figure to an initial 600x600px, this will subsequently be updated\n",
       "    // upon first draw.\n",
       "    this._resize_canvas(600, 600);\n",
       "\n",
       "    // Disable right mouse context menu.\n",
       "    $(this.rubberband_canvas).bind(\"contextmenu\",function(e){\n",
       "        return false;\n",
       "    });\n",
       "\n",
       "    function set_focus () {\n",
       "        canvas.focus();\n",
       "        canvas_div.focus();\n",
       "    }\n",
       "\n",
       "    window.setTimeout(set_focus, 100);\n",
       "}\n",
       "\n",
       "mpl.figure.prototype._init_toolbar = function() {\n",
       "    var fig = this;\n",
       "\n",
       "    var nav_element = $('<div/>')\n",
       "    nav_element.attr('style', 'width: 100%');\n",
       "    this.root.append(nav_element);\n",
       "\n",
       "    // Define a callback function for later on.\n",
       "    function toolbar_event(event) {\n",
       "        return fig.toolbar_button_onclick(event['data']);\n",
       "    }\n",
       "    function toolbar_mouse_event(event) {\n",
       "        return fig.toolbar_button_onmouseover(event['data']);\n",
       "    }\n",
       "\n",
       "    for(var toolbar_ind in mpl.toolbar_items) {\n",
       "        var name = mpl.toolbar_items[toolbar_ind][0];\n",
       "        var tooltip = mpl.toolbar_items[toolbar_ind][1];\n",
       "        var image = mpl.toolbar_items[toolbar_ind][2];\n",
       "        var method_name = mpl.toolbar_items[toolbar_ind][3];\n",
       "\n",
       "        if (!name) {\n",
       "            // put a spacer in here.\n",
       "            continue;\n",
       "        }\n",
       "        var button = $('<button/>');\n",
       "        button.addClass('ui-button ui-widget ui-state-default ui-corner-all ' +\n",
       "                        'ui-button-icon-only');\n",
       "        button.attr('role', 'button');\n",
       "        button.attr('aria-disabled', 'false');\n",
       "        button.click(method_name, toolbar_event);\n",
       "        button.mouseover(tooltip, toolbar_mouse_event);\n",
       "\n",
       "        var icon_img = $('<span/>');\n",
       "        icon_img.addClass('ui-button-icon-primary ui-icon');\n",
       "        icon_img.addClass(image);\n",
       "        icon_img.addClass('ui-corner-all');\n",
       "\n",
       "        var tooltip_span = $('<span/>');\n",
       "        tooltip_span.addClass('ui-button-text');\n",
       "        tooltip_span.html(tooltip);\n",
       "\n",
       "        button.append(icon_img);\n",
       "        button.append(tooltip_span);\n",
       "\n",
       "        nav_element.append(button);\n",
       "    }\n",
       "\n",
       "    var fmt_picker_span = $('<span/>');\n",
       "\n",
       "    var fmt_picker = $('<select/>');\n",
       "    fmt_picker.addClass('mpl-toolbar-option ui-widget ui-widget-content');\n",
       "    fmt_picker_span.append(fmt_picker);\n",
       "    nav_element.append(fmt_picker_span);\n",
       "    this.format_dropdown = fmt_picker[0];\n",
       "\n",
       "    for (var ind in mpl.extensions) {\n",
       "        var fmt = mpl.extensions[ind];\n",
       "        var option = $(\n",
       "            '<option/>', {selected: fmt === mpl.default_extension}).html(fmt);\n",
       "        fmt_picker.append(option)\n",
       "    }\n",
       "\n",
       "    // Add hover states to the ui-buttons\n",
       "    $( \".ui-button\" ).hover(\n",
       "        function() { $(this).addClass(\"ui-state-hover\");},\n",
       "        function() { $(this).removeClass(\"ui-state-hover\");}\n",
       "    );\n",
       "\n",
       "    var status_bar = $('<span class=\"mpl-message\"/>');\n",
       "    nav_element.append(status_bar);\n",
       "    this.message = status_bar[0];\n",
       "}\n",
       "\n",
       "mpl.figure.prototype.request_resize = function(x_pixels, y_pixels) {\n",
       "    // Request matplotlib to resize the figure. Matplotlib will then trigger a resize in the client,\n",
       "    // which will in turn request a refresh of the image.\n",
       "    this.send_message('resize', {'width': x_pixels, 'height': y_pixels});\n",
       "}\n",
       "\n",
       "mpl.figure.prototype.send_message = function(type, properties) {\n",
       "    properties['type'] = type;\n",
       "    properties['figure_id'] = this.id;\n",
       "    this.ws.send(JSON.stringify(properties));\n",
       "}\n",
       "\n",
       "mpl.figure.prototype.send_draw_message = function() {\n",
       "    if (!this.waiting) {\n",
       "        this.waiting = true;\n",
       "        this.ws.send(JSON.stringify({type: \"draw\", figure_id: this.id}));\n",
       "    }\n",
       "}\n",
       "\n",
       "\n",
       "mpl.figure.prototype.handle_save = function(fig, msg) {\n",
       "    var format_dropdown = fig.format_dropdown;\n",
       "    var format = format_dropdown.options[format_dropdown.selectedIndex].value;\n",
       "    fig.ondownload(fig, format);\n",
       "}\n",
       "\n",
       "\n",
       "mpl.figure.prototype.handle_resize = function(fig, msg) {\n",
       "    var size = msg['size'];\n",
       "    if (size[0] != fig.canvas.width || size[1] != fig.canvas.height) {\n",
       "        fig._resize_canvas(size[0], size[1]);\n",
       "        fig.send_message(\"refresh\", {});\n",
       "    };\n",
       "}\n",
       "\n",
       "mpl.figure.prototype.handle_rubberband = function(fig, msg) {\n",
       "    var x0 = msg['x0'] / mpl.ratio;\n",
       "    var y0 = (fig.canvas.height - msg['y0']) / mpl.ratio;\n",
       "    var x1 = msg['x1'] / mpl.ratio;\n",
       "    var y1 = (fig.canvas.height - msg['y1']) / mpl.ratio;\n",
       "    x0 = Math.floor(x0) + 0.5;\n",
       "    y0 = Math.floor(y0) + 0.5;\n",
       "    x1 = Math.floor(x1) + 0.5;\n",
       "    y1 = Math.floor(y1) + 0.5;\n",
       "    var min_x = Math.min(x0, x1);\n",
       "    var min_y = Math.min(y0, y1);\n",
       "    var width = Math.abs(x1 - x0);\n",
       "    var height = Math.abs(y1 - y0);\n",
       "\n",
       "    fig.rubberband_context.clearRect(\n",
       "        0, 0, fig.canvas.width, fig.canvas.height);\n",
       "\n",
       "    fig.rubberband_context.strokeRect(min_x, min_y, width, height);\n",
       "}\n",
       "\n",
       "mpl.figure.prototype.handle_figure_label = function(fig, msg) {\n",
       "    // Updates the figure title.\n",
       "    fig.header.textContent = msg['label'];\n",
       "}\n",
       "\n",
       "mpl.figure.prototype.handle_cursor = function(fig, msg) {\n",
       "    var cursor = msg['cursor'];\n",
       "    switch(cursor)\n",
       "    {\n",
       "    case 0:\n",
       "        cursor = 'pointer';\n",
       "        break;\n",
       "    case 1:\n",
       "        cursor = 'default';\n",
       "        break;\n",
       "    case 2:\n",
       "        cursor = 'crosshair';\n",
       "        break;\n",
       "    case 3:\n",
       "        cursor = 'move';\n",
       "        break;\n",
       "    }\n",
       "    fig.rubberband_canvas.style.cursor = cursor;\n",
       "}\n",
       "\n",
       "mpl.figure.prototype.handle_message = function(fig, msg) {\n",
       "    fig.message.textContent = msg['message'];\n",
       "}\n",
       "\n",
       "mpl.figure.prototype.handle_draw = function(fig, msg) {\n",
       "    // Request the server to send over a new figure.\n",
       "    fig.send_draw_message();\n",
       "}\n",
       "\n",
       "mpl.figure.prototype.handle_image_mode = function(fig, msg) {\n",
       "    fig.image_mode = msg['mode'];\n",
       "}\n",
       "\n",
       "mpl.figure.prototype.updated_canvas_event = function() {\n",
       "    // Called whenever the canvas gets updated.\n",
       "    this.send_message(\"ack\", {});\n",
       "}\n",
       "\n",
       "// A function to construct a web socket function for onmessage handling.\n",
       "// Called in the figure constructor.\n",
       "mpl.figure.prototype._make_on_message_function = function(fig) {\n",
       "    return function socket_on_message(evt) {\n",
       "        if (evt.data instanceof Blob) {\n",
       "            /* FIXME: We get \"Resource interpreted as Image but\n",
       "             * transferred with MIME type text/plain:\" errors on\n",
       "             * Chrome.  But how to set the MIME type?  It doesn't seem\n",
       "             * to be part of the websocket stream */\n",
       "            evt.data.type = \"image/png\";\n",
       "\n",
       "            /* Free the memory for the previous frames */\n",
       "            if (fig.imageObj.src) {\n",
       "                (window.URL || window.webkitURL).revokeObjectURL(\n",
       "                    fig.imageObj.src);\n",
       "            }\n",
       "\n",
       "            fig.imageObj.src = (window.URL || window.webkitURL).createObjectURL(\n",
       "                evt.data);\n",
       "            fig.updated_canvas_event();\n",
       "            fig.waiting = false;\n",
       "            return;\n",
       "        }\n",
       "        else if (typeof evt.data === 'string' && evt.data.slice(0, 21) == \"data:image/png;base64\") {\n",
       "            fig.imageObj.src = evt.data;\n",
       "            fig.updated_canvas_event();\n",
       "            fig.waiting = false;\n",
       "            return;\n",
       "        }\n",
       "\n",
       "        var msg = JSON.parse(evt.data);\n",
       "        var msg_type = msg['type'];\n",
       "\n",
       "        // Call the  \"handle_{type}\" callback, which takes\n",
       "        // the figure and JSON message as its only arguments.\n",
       "        try {\n",
       "            var callback = fig[\"handle_\" + msg_type];\n",
       "        } catch (e) {\n",
       "            console.log(\"No handler for the '\" + msg_type + \"' message type: \", msg);\n",
       "            return;\n",
       "        }\n",
       "\n",
       "        if (callback) {\n",
       "            try {\n",
       "                // console.log(\"Handling '\" + msg_type + \"' message: \", msg);\n",
       "                callback(fig, msg);\n",
       "            } catch (e) {\n",
       "                console.log(\"Exception inside the 'handler_\" + msg_type + \"' callback:\", e, e.stack, msg);\n",
       "            }\n",
       "        }\n",
       "    };\n",
       "}\n",
       "\n",
       "// from http://stackoverflow.com/questions/1114465/getting-mouse-location-in-canvas\n",
       "mpl.findpos = function(e) {\n",
       "    //this section is from http://www.quirksmode.org/js/events_properties.html\n",
       "    var targ;\n",
       "    if (!e)\n",
       "        e = window.event;\n",
       "    if (e.target)\n",
       "        targ = e.target;\n",
       "    else if (e.srcElement)\n",
       "        targ = e.srcElement;\n",
       "    if (targ.nodeType == 3) // defeat Safari bug\n",
       "        targ = targ.parentNode;\n",
       "\n",
       "    // jQuery normalizes the pageX and pageY\n",
       "    // pageX,Y are the mouse positions relative to the document\n",
       "    // offset() returns the position of the element relative to the document\n",
       "    var x = e.pageX - $(targ).offset().left;\n",
       "    var y = e.pageY - $(targ).offset().top;\n",
       "\n",
       "    return {\"x\": x, \"y\": y};\n",
       "};\n",
       "\n",
       "/*\n",
       " * return a copy of an object with only non-object keys\n",
       " * we need this to avoid circular references\n",
       " * http://stackoverflow.com/a/24161582/3208463\n",
       " */\n",
       "function simpleKeys (original) {\n",
       "  return Object.keys(original).reduce(function (obj, key) {\n",
       "    if (typeof original[key] !== 'object')\n",
       "        obj[key] = original[key]\n",
       "    return obj;\n",
       "  }, {});\n",
       "}\n",
       "\n",
       "mpl.figure.prototype.mouse_event = function(event, name) {\n",
       "    var canvas_pos = mpl.findpos(event)\n",
       "\n",
       "    if (name === 'button_press')\n",
       "    {\n",
       "        this.canvas.focus();\n",
       "        this.canvas_div.focus();\n",
       "    }\n",
       "\n",
       "    var x = canvas_pos.x * mpl.ratio;\n",
       "    var y = canvas_pos.y * mpl.ratio;\n",
       "\n",
       "    this.send_message(name, {x: x, y: y, button: event.button,\n",
       "                             step: event.step,\n",
       "                             guiEvent: simpleKeys(event)});\n",
       "\n",
       "    /* This prevents the web browser from automatically changing to\n",
       "     * the text insertion cursor when the button is pressed.  We want\n",
       "     * to control all of the cursor setting manually through the\n",
       "     * 'cursor' event from matplotlib */\n",
       "    event.preventDefault();\n",
       "    return false;\n",
       "}\n",
       "\n",
       "mpl.figure.prototype._key_event_extra = function(event, name) {\n",
       "    // Handle any extra behaviour associated with a key event\n",
       "}\n",
       "\n",
       "mpl.figure.prototype.key_event = function(event, name) {\n",
       "\n",
       "    // Prevent repeat events\n",
       "    if (name == 'key_press')\n",
       "    {\n",
       "        if (event.which === this._key)\n",
       "            return;\n",
       "        else\n",
       "            this._key = event.which;\n",
       "    }\n",
       "    if (name == 'key_release')\n",
       "        this._key = null;\n",
       "\n",
       "    var value = '';\n",
       "    if (event.ctrlKey && event.which != 17)\n",
       "        value += \"ctrl+\";\n",
       "    if (event.altKey && event.which != 18)\n",
       "        value += \"alt+\";\n",
       "    if (event.shiftKey && event.which != 16)\n",
       "        value += \"shift+\";\n",
       "\n",
       "    value += 'k';\n",
       "    value += event.which.toString();\n",
       "\n",
       "    this._key_event_extra(event, name);\n",
       "\n",
       "    this.send_message(name, {key: value,\n",
       "                             guiEvent: simpleKeys(event)});\n",
       "    return false;\n",
       "}\n",
       "\n",
       "mpl.figure.prototype.toolbar_button_onclick = function(name) {\n",
       "    if (name == 'download') {\n",
       "        this.handle_save(this, null);\n",
       "    } else {\n",
       "        this.send_message(\"toolbar_button\", {name: name});\n",
       "    }\n",
       "};\n",
       "\n",
       "mpl.figure.prototype.toolbar_button_onmouseover = function(tooltip) {\n",
       "    this.message.textContent = tooltip;\n",
       "};\n",
       "mpl.toolbar_items = [[\"Home\", \"Reset original view\", \"fa fa-home icon-home\", \"home\"], [\"Back\", \"Back to  previous view\", \"fa fa-arrow-left icon-arrow-left\", \"back\"], [\"Forward\", \"Forward to next view\", \"fa fa-arrow-right icon-arrow-right\", \"forward\"], [\"\", \"\", \"\", \"\"], [\"Pan\", \"Pan axes with left mouse, zoom with right\", \"fa fa-arrows icon-move\", \"pan\"], [\"Zoom\", \"Zoom to rectangle\", \"fa fa-square-o icon-check-empty\", \"zoom\"], [\"\", \"\", \"\", \"\"], [\"Download\", \"Download plot\", \"fa fa-floppy-o icon-save\", \"download\"]];\n",
       "\n",
       "mpl.extensions = [\"eps\", \"jpeg\", \"pdf\", \"png\", \"ps\", \"raw\", \"svg\", \"tif\"];\n",
       "\n",
       "mpl.default_extension = \"png\";var comm_websocket_adapter = function(comm) {\n",
       "    // Create a \"websocket\"-like object which calls the given IPython comm\n",
       "    // object with the appropriate methods. Currently this is a non binary\n",
       "    // socket, so there is still some room for performance tuning.\n",
       "    var ws = {};\n",
       "\n",
       "    ws.close = function() {\n",
       "        comm.close()\n",
       "    };\n",
       "    ws.send = function(m) {\n",
       "        //console.log('sending', m);\n",
       "        comm.send(m);\n",
       "    };\n",
       "    // Register the callback with on_msg.\n",
       "    comm.on_msg(function(msg) {\n",
       "        //console.log('receiving', msg['content']['data'], msg);\n",
       "        // Pass the mpl event to the overridden (by mpl) onmessage function.\n",
       "        ws.onmessage(msg['content']['data'])\n",
       "    });\n",
       "    return ws;\n",
       "}\n",
       "\n",
       "mpl.mpl_figure_comm = function(comm, msg) {\n",
       "    // This is the function which gets called when the mpl process\n",
       "    // starts-up an IPython Comm through the \"matplotlib\" channel.\n",
       "\n",
       "    var id = msg.content.data.id;\n",
       "    // Get hold of the div created by the display call when the Comm\n",
       "    // socket was opened in Python.\n",
       "    var element = $(\"#\" + id);\n",
       "    var ws_proxy = comm_websocket_adapter(comm)\n",
       "\n",
       "    function ondownload(figure, format) {\n",
       "        window.open(figure.imageObj.src);\n",
       "    }\n",
       "\n",
       "    var fig = new mpl.figure(id, ws_proxy,\n",
       "                           ondownload,\n",
       "                           element.get(0));\n",
       "\n",
       "    // Call onopen now - mpl needs it, as it is assuming we've passed it a real\n",
       "    // web socket which is closed, not our websocket->open comm proxy.\n",
       "    ws_proxy.onopen();\n",
       "\n",
       "    fig.parent_element = element.get(0);\n",
       "    fig.cell_info = mpl.find_output_cell(\"<div id='\" + id + \"'></div>\");\n",
       "    if (!fig.cell_info) {\n",
       "        console.error(\"Failed to find cell for figure\", id, fig);\n",
       "        return;\n",
       "    }\n",
       "\n",
       "    var output_index = fig.cell_info[2]\n",
       "    var cell = fig.cell_info[0];\n",
       "\n",
       "};\n",
       "\n",
       "mpl.figure.prototype.handle_close = function(fig, msg) {\n",
       "    var width = fig.canvas.width/mpl.ratio\n",
       "    fig.root.unbind('remove')\n",
       "\n",
       "    // Update the output cell to use the data from the current canvas.\n",
       "    fig.push_to_output();\n",
       "    var dataURL = fig.canvas.toDataURL();\n",
       "    // Re-enable the keyboard manager in IPython - without this line, in FF,\n",
       "    // the notebook keyboard shortcuts fail.\n",
       "    IPython.keyboard_manager.enable()\n",
       "    $(fig.parent_element).html('<img src=\"' + dataURL + '\" width=\"' + width + '\">');\n",
       "    fig.close_ws(fig, msg);\n",
       "}\n",
       "\n",
       "mpl.figure.prototype.close_ws = function(fig, msg){\n",
       "    fig.send_message('closing', msg);\n",
       "    // fig.ws.close()\n",
       "}\n",
       "\n",
       "mpl.figure.prototype.push_to_output = function(remove_interactive) {\n",
       "    // Turn the data on the canvas into data in the output cell.\n",
       "    var width = this.canvas.width/mpl.ratio\n",
       "    var dataURL = this.canvas.toDataURL();\n",
       "    this.cell_info[1]['text/html'] = '<img src=\"' + dataURL + '\" width=\"' + width + '\">';\n",
       "}\n",
       "\n",
       "mpl.figure.prototype.updated_canvas_event = function() {\n",
       "    // Tell IPython that the notebook contents must change.\n",
       "    IPython.notebook.set_dirty(true);\n",
       "    this.send_message(\"ack\", {});\n",
       "    var fig = this;\n",
       "    // Wait a second, then push the new image to the DOM so\n",
       "    // that it is saved nicely (might be nice to debounce this).\n",
       "    setTimeout(function () { fig.push_to_output() }, 1000);\n",
       "}\n",
       "\n",
       "mpl.figure.prototype._init_toolbar = function() {\n",
       "    var fig = this;\n",
       "\n",
       "    var nav_element = $('<div/>')\n",
       "    nav_element.attr('style', 'width: 100%');\n",
       "    this.root.append(nav_element);\n",
       "\n",
       "    // Define a callback function for later on.\n",
       "    function toolbar_event(event) {\n",
       "        return fig.toolbar_button_onclick(event['data']);\n",
       "    }\n",
       "    function toolbar_mouse_event(event) {\n",
       "        return fig.toolbar_button_onmouseover(event['data']);\n",
       "    }\n",
       "\n",
       "    for(var toolbar_ind in mpl.toolbar_items){\n",
       "        var name = mpl.toolbar_items[toolbar_ind][0];\n",
       "        var tooltip = mpl.toolbar_items[toolbar_ind][1];\n",
       "        var image = mpl.toolbar_items[toolbar_ind][2];\n",
       "        var method_name = mpl.toolbar_items[toolbar_ind][3];\n",
       "\n",
       "        if (!name) { continue; };\n",
       "\n",
       "        var button = $('<button class=\"btn btn-default\" href=\"#\" title=\"' + name + '\"><i class=\"fa ' + image + ' fa-lg\"></i></button>');\n",
       "        button.click(method_name, toolbar_event);\n",
       "        button.mouseover(tooltip, toolbar_mouse_event);\n",
       "        nav_element.append(button);\n",
       "    }\n",
       "\n",
       "    // Add the status bar.\n",
       "    var status_bar = $('<span class=\"mpl-message\" style=\"text-align:right; float: right;\"/>');\n",
       "    nav_element.append(status_bar);\n",
       "    this.message = status_bar[0];\n",
       "\n",
       "    // Add the close button to the window.\n",
       "    var buttongrp = $('<div class=\"btn-group inline pull-right\"></div>');\n",
       "    var button = $('<button class=\"btn btn-mini btn-primary\" href=\"#\" title=\"Stop Interaction\"><i class=\"fa fa-power-off icon-remove icon-large\"></i></button>');\n",
       "    button.click(function (evt) { fig.handle_close(fig, {}); } );\n",
       "    button.mouseover('Stop Interaction', toolbar_mouse_event);\n",
       "    buttongrp.append(button);\n",
       "    var titlebar = this.root.find($('.ui-dialog-titlebar'));\n",
       "    titlebar.prepend(buttongrp);\n",
       "}\n",
       "\n",
       "mpl.figure.prototype._root_extra_style = function(el){\n",
       "    var fig = this\n",
       "    el.on(\"remove\", function(){\n",
       "\tfig.close_ws(fig, {});\n",
       "    });\n",
       "}\n",
       "\n",
       "mpl.figure.prototype._canvas_extra_style = function(el){\n",
       "    // this is important to make the div 'focusable\n",
       "    el.attr('tabindex', 0)\n",
       "    // reach out to IPython and tell the keyboard manager to turn it's self\n",
       "    // off when our div gets focus\n",
       "\n",
       "    // location in version 3\n",
       "    if (IPython.notebook.keyboard_manager) {\n",
       "        IPython.notebook.keyboard_manager.register_events(el);\n",
       "    }\n",
       "    else {\n",
       "        // location in version 2\n",
       "        IPython.keyboard_manager.register_events(el);\n",
       "    }\n",
       "\n",
       "}\n",
       "\n",
       "mpl.figure.prototype._key_event_extra = function(event, name) {\n",
       "    var manager = IPython.notebook.keyboard_manager;\n",
       "    if (!manager)\n",
       "        manager = IPython.keyboard_manager;\n",
       "\n",
       "    // Check for shift+enter\n",
       "    if (event.shiftKey && event.which == 13) {\n",
       "        this.canvas_div.blur();\n",
       "        event.shiftKey = false;\n",
       "        // Send a \"J\" for go to next cell\n",
       "        event.which = 74;\n",
       "        event.keyCode = 74;\n",
       "        manager.command_mode();\n",
       "        manager.handle_keydown(event);\n",
       "    }\n",
       "}\n",
       "\n",
       "mpl.figure.prototype.handle_save = function(fig, msg) {\n",
       "    fig.ondownload(fig, null);\n",
       "}\n",
       "\n",
       "\n",
       "mpl.find_output_cell = function(html_output) {\n",
       "    // Return the cell and output element which can be found *uniquely* in the notebook.\n",
       "    // Note - this is a bit hacky, but it is done because the \"notebook_saving.Notebook\"\n",
       "    // IPython event is triggered only after the cells have been serialised, which for\n",
       "    // our purposes (turning an active figure into a static one), is too late.\n",
       "    var cells = IPython.notebook.get_cells();\n",
       "    var ncells = cells.length;\n",
       "    for (var i=0; i<ncells; i++) {\n",
       "        var cell = cells[i];\n",
       "        if (cell.cell_type === 'code'){\n",
       "            for (var j=0; j<cell.output_area.outputs.length; j++) {\n",
       "                var data = cell.output_area.outputs[j];\n",
       "                if (data.data) {\n",
       "                    // IPython >= 3 moved mimebundle to data attribute of output\n",
       "                    data = data.data;\n",
       "                }\n",
       "                if (data['text/html'] == html_output) {\n",
       "                    return [cell, data, j];\n",
       "                }\n",
       "            }\n",
       "        }\n",
       "    }\n",
       "}\n",
       "\n",
       "// Register the function which deals with the matplotlib target/channel.\n",
       "// The kernel may be null if the page has been refreshed.\n",
       "if (IPython.notebook.kernel != null) {\n",
       "    IPython.notebook.kernel.comm_manager.register_target('matplotlib', mpl.mpl_figure_comm);\n",
       "}\n"
      ],
      "text/plain": [
       "<IPython.core.display.Javascript object>"
      ]
     },
     "metadata": {},
     "output_type": "display_data"
    },
    {
     "data": {
      "text/html": [
       "<img src=\"data:image/png;base64,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\" width=\"999.4444709206812\">"
      ],
      "text/plain": [
       "<IPython.core.display.HTML object>"
      ]
     },
     "metadata": {},
     "output_type": "display_data"
    }
   ],
   "source": [
    "plot_p_and_g()"
   ]
  },
  {
   "cell_type": "markdown",
   "metadata": {
    "slideshow": {
     "slide_type": "slide"
    }
   },
   "source": [
    "## Example 1A: Pure Material\n",
    "----\n",
    "\n",
    "\n",
    "Using the Lagrangian with the squared gradient correction and the helper functions we are ready to construct the free energy of a pure system.  We start by using the ordinary free energy of the pure components:\n",
    "\n",
    " * Pure A, liquid phase - $f_A^L(T)$\n",
    " * Pure A, solid phase - $f_A^S(T)$\n",
    "\n",
    "As we will be limiting ourselves to a pure material at this time, these are the only two free energies we need.  Near the melting point these free energies are often modeled as straight lines using the relationship for the Gibbs free energy:\n",
    "\n",
    "$$G = H - TS$$"
   ]
  },
  {
   "cell_type": "markdown",
   "metadata": {
    "slideshow": {
     "slide_type": "slide"
    }
   },
   "source": [
    "taking H and S to be constants.  Following conventions of the phase diagram modeling community we take the reference state of the component A to be the equilibrium phase at STP.  If this were a metal like Cu then the reference state would be the FCC phase.  For us, that will be the SOLID.  This sets:\n",
    "\n",
    "$$f_A^S(T) = 0$$\n",
    "\n",
    "Expanding the difference in free energy between the solid and the liquid around the melting point results in:\n",
    "\n",
    "$$f_A^L(T)-f_A^S(T) = L_A \\frac{(T_M^A - T)}{T_M^A}$$"
   ]
  },
  {
   "cell_type": "markdown",
   "metadata": {
    "slideshow": {
     "slide_type": "slide"
    }
   },
   "source": [
    "The next step is to homogenize the free energy for component A.  We build the free energy $f(\\phi,T)_A$ as follows:\n",
    "\n",
    "$$f(\\phi,T)_A = W_A~g(\\phi) + f_L p(\\phi) + f_S (1-p(\\phi))$$"
   ]
  },
  {
   "cell_type": "code",
   "execution_count": null,
   "metadata": {
    "slideshow": {
     "slide_type": "skip"
    }
   },
   "outputs": [],
   "source": [
    "%matplotlib notebook\n",
    "import matplotlib.pyplot as plt\n",
    "import numpy as np\n",
    "from mpl_toolkits.mplot3d import Axes3D\n",
    "from matplotlib.ticker import LinearLocator, FormatStrFormatter\n",
    "\n",
    "def plot_homogeneous_F():\n",
    "    plt.fig = plt.figure(2, figsize=(5,5))\n",
    "    plt.ax = plt.fig.gca(projection='3d')\n",
    "\n",
    "    phi = np.linspace(0.0, 1.0, 100)\n",
    "    temperature = np.linspace(0.0, 1.0, 100)\n",
    "    phi,temperature = np.meshgrid(phi,temperature)\n",
    "\n",
    "    W=30.0\n",
    "    L=1.0\n",
    "    Tm=0.5\n",
    "    g=phi**2*(1-phi)**2\n",
    "    p=phi**3*(6*phi**2-15*phi+10)\n",
    "\n",
    "    f = W*g+L*p*(Tm-temperature)/Tm\n",
    "\n",
    "    energyPlot = plt.ax.plot_surface(phi, temperature, f, label=None, \n",
    "                    cmap=plt.cm.coolwarm, rstride=5, cstride=5, alpha=0.5)\n",
    "    energyPlot = plt.contour(phi, temperature, f, 20)\n",
    "\n",
    "    plt.clabel(energyPlot, inline=1, fontsize=10)\n",
    "    plt.ax.set_xlabel('$\\phi$')\n",
    "    plt.ax.set_ylabel('T')\n",
    "    plt.ax.set_zlabel('$f(\\phi,t)$')\n",
    "    \n",
    "    return"
   ]
  },
  {
   "cell_type": "markdown",
   "metadata": {
    "slideshow": {
     "slide_type": "slide"
    }
   },
   "source": [
    "so that:\n",
    "\n",
    "$$f(\\phi,T)_A = W_A~g(\\phi) + L_A \\frac{(T_M^A - T)}{T_M^A}p(\\phi)$$\n",
    "\n",
    "Plotting this and viewing the results from different angles will help us see how more traditional treatments are embedded within a continuous energy space."
   ]
  },
  {
   "cell_type": "code",
   "execution_count": null,
   "metadata": {
    "slideshow": {
     "slide_type": "slide"
    }
   },
   "outputs": [],
   "source": [
    "plot_homogeneous_F()"
   ]
  },
  {
   "cell_type": "markdown",
   "metadata": {
    "slideshow": {
     "slide_type": "slide"
    }
   },
   "source": [
    "## The Analytic Solution\n",
    "----\n",
    "\n",
    "If we are at the melting temperature, the temeprature dependent term goes to zero and we are left with:\n",
    "\n",
    "$$\n",
    "F(\\phi,\\phi') = W \\phi^2 (1-\\phi)^2 + \\epsilon (\\nabla \\phi)^2\n",
    "$$\n",
    "\n",
    "Applying the Euler-Lagrange equation to our functional we get:\n",
    "\n",
    "\\begin{align}\n",
    "\\frac{\\delta F}{\\delta \\phi} & = \\frac{\\partial F}{\\partial \\phi} - \\frac{d}{dx} \\frac{\\partial F}{\\partial \\nabla \\phi} = 0 \\\\ &= 2 W \\phi \\left(\\phi - 1\\right) \\left(2 \\phi - 1\\right) - 2 \\epsilon \\nabla^2  \\phi = 0\n",
    "\\end{align}\n",
    "\n",
    "recall that $\\phi(x,t)$ and this equation implies equilibrium."
   ]
  },
  {
   "cell_type": "markdown",
   "metadata": {
    "slideshow": {
     "slide_type": "slide"
    }
   },
   "source": [
    "There is a fair bit of algebra and a few assumptions that enable the solution to the Euler-Lagrange equation above:\n",
    "\n",
    "* First - assume that you are at the melting temperature.  The rationale is that this is the only temperature where BOTH phases CO-EXIST.  Any other temperature and it does not make sense to discuss an interface.  This removes the second term on the RHS of the above expression.\n",
    "* Second - you can use $\\frac{d\\phi}{dx}$ as an integrating factor to take the first integral of the Euler-Lagrange equation.\n",
    "* Third - after evaluating the constant (C=0 is the answer) the equation is seperable and can be integrated.\n",
    " \n",
    "The result is:\n",
    " \n",
    "$$\\phi(x) = \\frac{1}{2} \\Big[ 1 + \\tanh \\Big( \\frac{x}{2\\delta} \\Big) \\Big]$$\n",
    " \n",
    "where $\\delta$ (the interface thickness) is related to the $W$ and $\\epsilon$ parameters and can also be related to $\\gamma$ (the surface energy). "
   ]
  },
  {
   "cell_type": "code",
   "execution_count": null,
   "metadata": {
    "slideshow": {
     "slide_type": "skip"
    }
   },
   "outputs": [],
   "source": [
    "%matplotlib notebook\n",
    "import matplotlib.pyplot as plt\n",
    "import numpy as np\n",
    "from ipywidgets import interact, fixed\n",
    "\n",
    "fig = None\n",
    "def plot_equilibrium(W=500.0, epsilon=1.0):\n",
    "    global fig\n",
    "    if fig: plt.close(fig)\n",
    "    fig = plt.figure()\n",
    "    x = np.linspace(-1.0, 1.0, 200)\n",
    "    phi = 0.5*(1+np.tanh(x*np.sqrt(2*W)/(2*epsilon)))\n",
    "    plt.plot(x, phi, linewidth=1.0)\n",
    "    plt.xlabel('$x$', fontsize=12)\n",
    "    plt.ylabel('$\\phi(x)$', fontsize=12)    \n",
    "    plt.show()\n",
    "    return"
   ]
  },
  {
   "cell_type": "code",
   "execution_count": null,
   "metadata": {
    "slideshow": {
     "slide_type": "slide"
    }
   },
   "outputs": [],
   "source": [
    "interact(plot_equilibrium, W=(0.001,1000,10), epsilon=fixed(1.0));"
   ]
  },
  {
   "cell_type": "markdown",
   "metadata": {},
   "source": [
    "## Takeaways\n",
    "----\n",
    "\n",
    "* The pure material illustrates how the thermodynamics relates to the order parameter.\n",
    "* The analytical solution illustrates more clearly the $W$ and $\\epsilon$ parameters in terms of the interface shape, from this we can precisely compute the excess Gibbs energy due to the interface (the surface energy) and the interface thickness.\n",
    "* Analytic solutions are not available (and likely not possible) for the alloy or more complicated cases.  A relaxation method is used, instead.\n"
   ]
  },
  {
   "cell_type": "markdown",
   "metadata": {
    "slideshow": {
     "slide_type": "slide"
    }
   },
   "source": [
    "## Solving the PDE Using Relaxation\n",
    "----\n",
    "\n",
    "With the bulk free energy and the gradient energy contributions conceptually justified it is now necessary to identify the equations of motion.  In the non conserved case:\n",
    "\n",
    "$$\n",
    "\\frac{\\partial \\phi}{\\partial t} = -M \\frac{\\delta F}{\\delta \\phi}\n",
    "$$\n",
    "\n",
    "and for a conserved order parameter the equations of motion are derived from:\n",
    "\n",
    "$$\n",
    "\\frac{\\partial \\phi}{\\partial t} = \\nabla \\cdot D \\nabla \\frac{\\delta F}{\\delta \\phi}\n",
    "$$\n",
    "\n",
    "There are other choices, but these are the simplest choices that guarantee a free energy decrease with time."
   ]
  },
  {
   "cell_type": "markdown",
   "metadata": {
    "slideshow": {
     "slide_type": "skip"
    }
   },
   "source": [
    "For this demonstration, FiPy will be used to solve the phase field equations.  FiPy is a vinite volume PDE solver that provides access to _diffusion_, _convection_, and _source_ terms that would be present in a typical phase field PDE.  FiPy has much more functionality then what is shown here.  \n",
    "\n",
    "FiPy is imported along with some helper functions.  This example is for a NON-conserved order parameter."
   ]
  },
  {
   "cell_type": "code",
   "execution_count": null,
   "metadata": {
    "slideshow": {
     "slide_type": "slide"
    }
   },
   "outputs": [],
   "source": [
    "%matplotlib notebook\n",
    "from fipy import *\n",
    "from IPython.display import clear_output"
   ]
  },
  {
   "cell_type": "markdown",
   "metadata": {
    "slideshow": {
     "slide_type": "skip"
    }
   },
   "source": [
    "The parameters that define our mesh are set."
   ]
  },
  {
   "cell_type": "code",
   "execution_count": null,
   "metadata": {
    "slideshow": {
     "slide_type": "slide"
    }
   },
   "outputs": [],
   "source": [
    "L = 1.\n",
    "nx = 400\n",
    "dx = L/nx"
   ]
  },
  {
   "cell_type": "markdown",
   "metadata": {
    "slideshow": {
     "slide_type": "skip"
    }
   },
   "source": [
    "We use FiPy's Grid1D method to produce a mesh and place our phase variable on that mesh."
   ]
  },
  {
   "cell_type": "code",
   "execution_count": null,
   "metadata": {
    "slideshow": {
     "slide_type": "slide"
    }
   },
   "outputs": [],
   "source": [
    "mesh = Grid1D(dx=dx, nx=nx)\n",
    "phase = CellVariable(name=\"phase\",mesh=mesh)"
   ]
  },
  {
   "cell_type": "markdown",
   "metadata": {
    "slideshow": {
     "slide_type": "skip"
    }
   },
   "source": [
    "Getting the centerpoint of each cell permits us to write geometric constraints for setting the intital conditions, etc."
   ]
  },
  {
   "cell_type": "code",
   "execution_count": null,
   "metadata": {
    "slideshow": {
     "slide_type": "slide"
    }
   },
   "outputs": [],
   "source": [
    "x = mesh.cellCenters\n",
    "phase.setValue(1.)\n",
    "phase.setValue(0., where=x > L/2)"
   ]
  },
  {
   "cell_type": "markdown",
   "metadata": {
    "slideshow": {
     "slide_type": "skip"
    }
   },
   "source": [
    "FiPy has built in viewers for observing the results."
   ]
  },
  {
   "cell_type": "code",
   "execution_count": null,
   "metadata": {
    "slideshow": {
     "slide_type": "slide"
    }
   },
   "outputs": [],
   "source": [
    "viewer = MatplotlibViewer(vars=(phase,),datamin=-0.1, datamax=1.1, legend=None)"
   ]
  },
  {
   "cell_type": "markdown",
   "metadata": {
    "slideshow": {
     "slide_type": "skip"
    }
   },
   "source": [
    "We set the remaining simulation parameters, such as the gradient energy coefficient, the double well potential, and the thermodynamic parameters.  Note the addition of the mobility $M$ for the relaxation method.  This term can be physically correlated to the atomic attachment kinetcs."
   ]
  },
  {
   "cell_type": "code",
   "execution_count": null,
   "metadata": {
    "slideshow": {
     "slide_type": "slide"
    }
   },
   "outputs": [],
   "source": [
    "eps_sqrd = 0.00025 \n",
    "M = 1.0\n",
    "W = 0.5\n",
    "Lv = 1.\n",
    "Tm = 1.\n",
    "T = 1.0\n",
    "enthalpy = Lv*(Tm-T)/Tm"
   ]
  },
  {
   "cell_type": "markdown",
   "metadata": {
    "slideshow": {
     "slide_type": "skip"
    }
   },
   "source": [
    "The final step to setup the problem is to partition our model into FiPy's terms.  In this case we have a single diffusion term.  We bundle all the remaining terms into the source term:"
   ]
  },
  {
   "cell_type": "code",
   "execution_count": null,
   "metadata": {
    "slideshow": {
     "slide_type": "slide"
    }
   },
   "outputs": [],
   "source": [
    "S0 = W*2.0*phase*(phase-1.0)*(2*phase-1.0) + 30*phase**2*(phase**2-2*phase+1)*enthalpy\n",
    "eq = TransientTerm() == DiffusionTerm(coeff=eps_sqrd*M) - S0"
   ]
  },
  {
   "cell_type": "markdown",
   "metadata": {
    "slideshow": {
     "slide_type": "skip"
    }
   },
   "source": [
    "FiPy has many solvers, we use the default solvers and call for the solution to the equations."
   ]
  },
  {
   "cell_type": "code",
   "execution_count": null,
   "metadata": {
    "slideshow": {
     "slide_type": "slide"
    }
   },
   "outputs": [],
   "source": [
    "for i in range(50):\n",
    "    eq.solve(var = phase, dt=0.1)\n",
    "    viewer.plot()\n",
    "    clear_output(wait=True)\n",
    "    display(viewer)"
   ]
  },
  {
   "cell_type": "markdown",
   "metadata": {
    "slideshow": {
     "slide_type": "slide"
    }
   },
   "source": [
    "## Example 1B:  Pair of Particles\n",
    "----\n",
    "\n",
    "The Gibbs-Thomson effect is present within the energy formulation of the phase field equations.  Because of this, curved particles in a system at the melting temperature will dissolve.  As one would expect, a flat interface is an equilibrium interface.  The example below illustrates this.  Note that the only difference between this case and the previous case is the intitial condition. "
   ]
  },
  {
   "cell_type": "code",
   "execution_count": null,
   "metadata": {
    "slideshow": {
     "slide_type": "skip"
    }
   },
   "outputs": [],
   "source": [
    "%matplotlib notebook\n",
    "from fipy import *\n",
    "from IPython.display import clear_output\n",
    "\n",
    "\n",
    "L = 1.\n",
    "nx = 200\n",
    "dx = L/nx\n",
    "dy = L/nx\n",
    "mesh = Grid2D(dx=dx, dy=dx, nx=nx, ny=nx)\n",
    "phase = CellVariable(name=\"phase\", mesh=mesh)\n",
    "x = mesh.cellCenters()[0]\n",
    "y = mesh.cellCenters()[1]\n",
    "\n",
    "phase.setValue(1.)\n",
    "x0 = 0.0\n",
    "y0 = 0.0\n",
    "\n",
    "# A slightly more complicated initial condition that takes advantage\n",
    "# of access to the cell centers.  The \"where\" syntax is very helpful.\n",
    "phase.setValue(0., where=(((x-x0)**2+(y-y0)**2 > L/3) & ((x-L)**2+(y-L)**2 > 0.2)))\n",
    "\n",
    "# If you want to start with a noisy initial condition, do this:\n",
    "# phase.setValue(ExponentialNoiseVariable(mesh=mesh, mean=0.5))\n",
    "# There are various reasons one would want to do this.\n",
    "\n",
    "viewer = Matplotlib2DGridViewer(vars=phase, datamin=0.0, datamax=1.0)\n",
    "\n",
    "eps_sqrd = 0.00025 \n",
    "M = 1.0\n",
    "W = 0.5\n",
    "Lv = 1.\n",
    "Tm = 1.\n",
    "T = 1.\n",
    "enthalpy = Lv*(Tm-T)/Tm\n",
    "\n",
    "S0 = W*2.0*phase*(phase-1.0)*(2*phase-1.0) + 30*phase**2*(phase**2-2*phase+1)*enthalpy\n",
    "eq = TransientTerm() == DiffusionTerm(coeff=eps_sqrd) - S0"
   ]
  },
  {
   "cell_type": "code",
   "execution_count": null,
   "metadata": {
    "slideshow": {
     "slide_type": "slide"
    }
   },
   "outputs": [],
   "source": [
    "for i in range(500):\n",
    "    eq.solve(var = phase, dt=0.05)\n",
    "    viewer.plot()\n",
    "    clear_output(wait=True)\n",
    "    display(viewer)"
   ]
  },
  {
   "cell_type": "markdown",
   "metadata": {
    "slideshow": {
     "slide_type": "slide"
    }
   },
   "source": [
    "## Example 2:  Spinodal Decomposition (and Order/Disorder Transformations)\n",
    "----\n",
    "\n",
    "The method is general enough to deal with more complex solutions.  We can replace the bulk free energy of a pure material with the free energy of a solid solution.  The creation of a solution can be thought of as a sequence of steps:\n",
    "\n",
    "* Compute the free energy of two unmixed systems of pure A and pure B (unmixed)\n",
    "* Mix the A and B atoms together\n",
    "* Compute the energy change upon mixing\n",
    "* Add this change in energy to the energy of the initial state (mixed)"
   ]
  },
  {
   "cell_type": "markdown",
   "metadata": {
    "slideshow": {
     "slide_type": "slide"
    }
   },
   "source": [
    "![Mixing](Mixing.png)"
   ]
  },
  {
   "cell_type": "markdown",
   "metadata": {
    "slideshow": {
     "slide_type": "skip"
    }
   },
   "source": [
    "To understand the energetics of a non-uniform system we need a model for a solution where the free energy (e.g. Gibbs or Helmholz) is a function of composition.  This is most often represented as a free energy density (energy/volume).  We will start by describing the ideal solution where the mixing process results in an entropy change alone.  In an ideal solution there is no enthalpy of mixing."
   ]
  },
  {
   "cell_type": "markdown",
   "metadata": {
    "slideshow": {
     "slide_type": "slide"
    }
   },
   "source": [
    "## No Preference for Chemical Surroundings\n",
    "----\n",
    "\n",
    "* In an ideal solution the enthalpy change (or internal energy change) is zero.\n",
    "* The entropy arises from mixing effects only.\n",
    "* Stirling's Formula is used to approximate terms due to the energy change on mixing:\n",
    "\n",
    "$$\n",
    "\\Delta G_{\\mathrm{mix, \\, id}} = RT(X_A \\ln X_A + X_B \\ln X_B)\n",
    "$$"
   ]
  },
  {
   "cell_type": "markdown",
   "metadata": {
    "slideshow": {
     "slide_type": "slide"
    }
   },
   "source": [
    "The free energy for an ideal solution can therefore be written:\n",
    "\n",
    "\\begin{align}\n",
    "G_{\\mathrm{ideal}} &= G_{\\mathrm{unmixed}} + \\Delta G_{\\mathrm{mix, \\, id}} \\\\ &= X_A G_A + X_B G_B + RT(X_A \\ln X_A + X_B \\ln X_B)\n",
    "\\end{align}"
   ]
  },
  {
   "cell_type": "code",
   "execution_count": null,
   "metadata": {
    "slideshow": {
     "slide_type": "skip"
    }
   },
   "outputs": [],
   "source": [
    "%matplotlib inline\n",
    "import numpy as np\n",
    "import matplotlib.pyplot as plt\n",
    "from ipywidgets import interact, fixed\n",
    "\n",
    "def idealSolution(GA, GB, XB, temperature):\n",
    "    \"\"\"\n",
    "    Computes the free energy of solution for an ideal binary mixture.\n",
    "    \n",
    "    Parameters\n",
    "    ----------\n",
    "    GA : float\n",
    "        The partial molar Gibbs free energy of pure A in Joules.\n",
    "    GB : float\n",
    "        The partial molar Gibbs free energy of pure B in Joules.\n",
    "    XB : ndarray\n",
    "        The mol fraction of component B as an array.\n",
    "    temperature : float\n",
    "        The temperature.\n",
    "        \n",
    "    Returns\n",
    "    -------\n",
    "    G : ndarray\n",
    "        An array of the Gibbs free energy having the same shape as `XB`.\n",
    "        \n",
    "    Examples\n",
    "    --------\n",
    "    >>> XB = np.linspace(0.01,0.99,10)\n",
    "    >>> G = idealSolution(0.0,0.0,XB,1.0)\n",
    "    >>> array([ 0.53440324, -3.72037187, -4.76282566, -3.72037187,  0.53440324])\n",
    "    \"\"\"\n",
    "    return (1.0-XB)*GA+XB*GB+8.314*temperature*((1-XB)*np.log(1-XB)+XB*np.log(XB))\n",
    "\n",
    "def myfig(temperature):\n",
    "    \"\"\"\n",
    "    This function produces a plot of the Gibbs free energy of mixing for an ideal solution.\n",
    "    \"\"\"\n",
    "    GA = 1.0\n",
    "    GB = 500.0\n",
    "    \n",
    "    XB = np.linspace(0.01,0.99,50)\n",
    "    temperatureSpace = np.linspace(1.0,100.0,10)\n",
    "    y = idealSolution(GA,GB,XB,temperature)\n",
    "    greySolutionLines = [idealSolution(GA,GB,XB,greyT) for greyT in temperatureSpace]\n",
    "    \n",
    "    fig, axes = plt.subplots(figsize=(10,8))\n",
    "    \n",
    "    for greyLine in greySolutionLines:\n",
    "        axes.plot(XB, greyLine, 'grey', alpha=0.3)\n",
    "\n",
    "    axes.plot(XB, y, 'r', label=r\"$G_A X_A + G_B X_B + RT(X_A \\ln X_A + X_B \\ln X_B)$\")\n",
    "    axes.legend()\n",
    "    axes.grid(True, linestyle='dotted')\n",
    "    axes.set_ylabel(r\"$G_{soln}$\")\n",
    "    axes.set_xlabel(r\"$X_B$\")\n",
    "    # Location for annotations can always be done by extents instead of absolute values.\n",
    "    axes.annotate(r'$G_A$='+str(GA)+'\\n'+r'$G_B$='+str(GB),xy=(0,200), size='large')\n",
    "    plt.show()\n",
    "    return"
   ]
  },
  {
   "cell_type": "code",
   "execution_count": null,
   "metadata": {
    "slideshow": {
     "slide_type": "slide"
    }
   },
   "outputs": [],
   "source": [
    "interact(myfig, temperature=(1.0,100.0,1.0));"
   ]
  },
  {
   "cell_type": "markdown",
   "metadata": {
    "slideshow": {
     "slide_type": "slide"
    }
   },
   "source": [
    "## Correcting the Ideal Solution for Local Chemical Effects\n",
    "----\n",
    "\n",
    "Compared to an ideal solution, the regular solution is a more general thermodynamic treatment.  In this case the enthalpy of mixing is nonzero.  This results from energy differences arising due to the chemistry of an atom's nearest neighbors.\n",
    "\n",
    "* In general the free energy of solution includes both enthalpic and entropic terms\n",
    "* The previous treatment of the ideal solution neglects any contribution from the enthalpy.\n",
    "* Before mixing - there are only A-A and B-B bonds and NO A-B bonds.\n",
    "* After mixing the number of A-B bonds is estimated from statistical and structural considerations to produce a model of the excess enthalpy"
   ]
  },
  {
   "cell_type": "markdown",
   "metadata": {
    "slideshow": {
     "slide_type": "slide"
    }
   },
   "source": [
    "![](Enthalpy-Nonzero.png)"
   ]
  },
  {
   "cell_type": "markdown",
   "metadata": {
    "slideshow": {
     "slide_type": "slide"
    }
   },
   "source": [
    "$$\n",
    "\\Delta H_{\\mathrm{mix}} = \\Omega(\\epsilon)X_A X_B\n",
    "$$"
   ]
  },
  {
   "cell_type": "markdown",
   "metadata": {
    "slideshow": {
     "slide_type": "slide"
    }
   },
   "source": [
    "The regular solution model is then writte as:\n",
    "\n",
    "\\begin{align}\n",
    "G_{\\mathrm{regular}} = X_A G_A + X_B G_B &+ \\Omega(\\epsilon)X_A X_B \\\\ &+ RT(X_A \\ln X_A + X_B \\ln X_B)\n",
    "\\end{align}"
   ]
  },
  {
   "cell_type": "code",
   "execution_count": null,
   "metadata": {
    "slideshow": {
     "slide_type": "skip"
    }
   },
   "outputs": [],
   "source": [
    "def regularSolution(GA, GB, XB, omega, temperature):\n",
    "    return omega*(1.0-XB)*XB+(1.0-XB)*GA+XB*GB+8.314*temperature*((1.0-XB)*np.log(1.0-XB)+XB*np.log(XB))\n",
    "\n",
    "def myfig2(omega, temperature):\n",
    "    \"\"\"\n",
    "    This function produces a plot of the Gibbs free energy of mixing for a regular solution.\n",
    "    \"\"\"\n",
    "    GA = 1.0\n",
    "    GB = 1.0\n",
    "    \n",
    "    XB = np.linspace(0.01,0.99,50)\n",
    "    temperatureSpace = np.linspace(1.0,200.0,10)\n",
    "    y = regularSolution(GA, GB, XB, omega, temperature)\n",
    "    greySolutionLines = [regularSolution(GA, GB, XB, omega, greyT) for greyT in temperatureSpace]\n",
    "    \n",
    "    fig2, axes2 = plt.subplots(figsize=(14,9))\n",
    "    \n",
    "    for greyLine in greySolutionLines:\n",
    "        axes2.plot(XB, greyLine, 'grey', alpha=0.3)\n",
    "\n",
    "    axes2.plot(XB, y, 'r', label=r\"$G_{soln}$\")\n",
    "\n",
    "    # Location for annotations can always be done by extents instead of absolute values.\n",
    "    axes2.annotate('GA='+str(GA)+'\\n'+'GB='+str(GB),xy=(0,400), fontsize=20)\n",
    "    \n",
    "    axes2.set_ylabel(r\"$G_{soln}$\", fontsize=15)\n",
    "    axes2.set_xlabel(r\"$X_B$\", fontsize=15)\n",
    "    axes2.legend(loc=\"upper right\", fontsize=15)\n",
    "    axes2.xaxis.set_tick_params(labelsize=15)\n",
    "    axes2.yaxis.set_tick_params(labelsize=15)\n",
    "    \n",
    "    plt.show()\n",
    "    return"
   ]
  },
  {
   "cell_type": "code",
   "execution_count": null,
   "metadata": {
    "slideshow": {
     "slide_type": "slide"
    }
   },
   "outputs": [],
   "source": [
    "interact(myfig2, omega=(0.0,5000.0,1.0), temperature=(1.0,200.0,1.0));"
   ]
  },
  {
   "cell_type": "markdown",
   "metadata": {
    "slideshow": {
     "slide_type": "slide"
    }
   },
   "source": [
    "## The PDE to Determine Profiles and Kinetic Evolution of a Non-Uniform System\n",
    "----\n",
    "To approximate the regular solution energetics the first term following function is used rather than the regular solution model above.  The functional contains the (approximate) bulk free energy and a gradient energy term:\n",
    "\n",
    "$$\n",
    "F(\\phi,\\phi') = W \\phi^2 (1-\\phi)^2 + \\epsilon (\\nabla \\phi)^2\n",
    "$$\n",
    "\n",
    "Applying the Euler-Lagrange equation to our functional we get:\n",
    "\n",
    "\\begin{align}\n",
    "\\frac{\\delta F}{\\delta \\phi} & = \\frac{\\partial F}{\\partial \\phi} - \\frac{d}{dx} \\frac{\\partial F}{\\partial \\nabla \\phi} = 0 \\\\ &= 2 W \\phi \\left(\\phi - 1\\right) \\left(2 \\phi - 1\\right) - 2 \\epsilon \\nabla^2  \\phi = 0\n",
    "\\end{align}\n",
    "\n",
    "recall that $\\phi(x,t)$ and this equation implies equilibrium."
   ]
  },
  {
   "cell_type": "markdown",
   "metadata": {
    "slideshow": {
     "slide_type": "skip"
    }
   },
   "source": [
    "## Quick Aside on Writing the E.O.M.\n",
    "----\n",
    "\n",
    "When writing the equations of motion - things can get messy.  It is better therefore to write the leading term on the LHS as $A(\\phi)$.  This gives:\n",
    "\n",
    "$$\n",
    "\\frac{\\delta F}{\\delta \\phi} = A(\\phi) - \\epsilon \\frac{d^{2}}{d x^{2}}  \\phi{\\left (x \\right )}\n",
    "$$\n",
    "\n",
    "\n",
    "and for a conserved order parameter, we write:\n",
    "\n",
    "$$\n",
    "\\nabla \\cdot D \\nabla \\frac{\\delta F}{\\delta \\phi} = \\nabla \\cdot D \\left( \\frac{\\partial A}{\\partial \\phi} \\nabla \\phi(x) - \\epsilon \\frac{d^{3}}{d x^{3}} \\phi(x) \\right)\n",
    "$$\n",
    "\n",
    "By distributing the divergence and diffusion coefficient, we arrive at:\n",
    "\n",
    "$$\n",
    "\\frac{\\partial \\phi}{\\partial t} = \\nabla \\cdot D \\frac{\\partial A}{\\partial \\phi} \\nabla \\phi(x) - D \\epsilon \\nabla^4 \\phi(x)\n",
    "$$\n",
    "\n",
    "This can be solved with standard numerical techniques.  The example below is for a CONSERVED order parameter and is taken directly from FiPy's examples in the user documentation."
   ]
  },
  {
   "cell_type": "code",
   "execution_count": null,
   "metadata": {
    "slideshow": {
     "slide_type": "skip"
    }
   },
   "outputs": [],
   "source": [
    "%matplotlib notebook\n",
    "from IPython.display import clear_output\n",
    "from fipy import *\n",
    "nx = ny = 100\n",
    "\n",
    "mesh = Grid2D(nx=nx, ny=ny, dx=0.5, dy=0.5)\n",
    "phi = CellVariable(name=r\"$\\phi$\", mesh=mesh)\n",
    "psi = CellVariable(name=r\"$\\psi$\", mesh=mesh)\n",
    "\n",
    "noise = GaussianNoiseVariable(mesh=mesh,mean=0.5,variance=0.01).value\n",
    "phi[:] = noise\n",
    "\n",
    "viewer = Viewer(vars=phi)#, datamin=-0.1, datamax=1.1)\n",
    "\n",
    "D = a = epsilon = 1.\n",
    "dfdphi = a**2 * 2 * phi * (1 - phi) * (1 - 2 * phi)\n",
    "dfdphi_ = a**2 * 2 * (1 - phi) * (1 - 2 * phi)\n",
    "d2fdphi2 = a**2 * 2 * (1 - 6 * phi * (1 - phi))\n",
    "eq1 = (TransientTerm(var=phi) == DiffusionTerm(coeff=D, var=psi))\n",
    "eq2 = (ImplicitSourceTerm(coeff=1., var=psi) \n",
    "       == ImplicitSourceTerm(coeff=-d2fdphi2, var=phi) - d2fdphi2 * phi + dfdphi \n",
    "       - DiffusionTerm(coeff=epsilon**2, var=phi))\n",
    "eq3 = (ImplicitSourceTerm(coeff=1., var=psi) \n",
    "       == ImplicitSourceTerm(coeff=dfdphi_, var=phi)\n",
    "       - DiffusionTerm(coeff=epsilon**2, var=phi))\n",
    "\n",
    "eq = eq1 & eq3\n",
    "\n",
    "dexp = -3\n",
    "elapsed = 0.\n",
    "duration = 100.0"
   ]
  },
  {
   "cell_type": "code",
   "execution_count": null,
   "metadata": {
    "slideshow": {
     "slide_type": "slide"
    }
   },
   "outputs": [],
   "source": [
    "# Run the model.\n",
    "while elapsed < duration:\n",
    "    dt = min(100, numerix.exp(dexp))\n",
    "    elapsed += dt\n",
    "    dexp += 0.01\n",
    "    eq.solve(dt=dt)\n",
    "    viewer.plot()\n",
    "    clear_output(wait=True)\n",
    "    display(viewer)"
   ]
  },
  {
   "cell_type": "markdown",
   "metadata": {
    "slideshow": {
     "slide_type": "slide"
    }
   },
   "source": [
    "## Snapshots from the Spinodal Decomposition (Conserved) Simulation\n",
    "----\n",
    "\n",
    "![](Composite-Cropped.png)"
   ]
  },
  {
   "cell_type": "markdown",
   "metadata": {
    "slideshow": {
     "slide_type": "slide"
    }
   },
   "source": [
    "## Animation of the Simulation\n",
    "---"
   ]
  },
  {
   "cell_type": "code",
   "execution_count": null,
   "metadata": {
    "slideshow": {
     "slide_type": "fragment"
    }
   },
   "outputs": [],
   "source": [
    "%%HTML\n",
    "<video width=\"600\" height=\"600\" controls> <source src=\"./Cahn-Hilliard.mp4\" type=\"video/mp4\"> </video>"
   ]
  },
  {
   "cell_type": "markdown",
   "metadata": {
    "slideshow": {
     "slide_type": "slide"
    }
   },
   "source": [
    "## Example 3: Multi Order Parameter Phase Field\n",
    "----\n",
    "\n",
    "Multi order parameter models include one phase field for every phase (or grain) in the system.  The major concern with these models relates to the energy landscape and the sense of curvature at intermediate states.\n",
    "\n",
    "Looking carefully - all the components outlined in previous models are here, too.\n",
    "\n",
    "These models created the possibility of multiphase growth and are essential for predicting both equilibrium and out-of-equilibrium phase formation in problems like additive manufacturing."
   ]
  },
  {
   "cell_type": "markdown",
   "metadata": {
    "slideshow": {
     "slide_type": "slide"
    }
   },
   "source": [
    "The bulk free energy of our system consists of a bulk and gradient energy as before:\n",
    "\n",
    "$$F = \\int_V \\left[ w g(\\phi) + \\frac{\\epsilon^2}{2} \\sum_{i=1} (\\nabla \\phi_i)^2 \\right] dV$$\n",
    "\n",
    "where $g(\\phi)$ is the homogeneous free energy landscape connecting ALL phase field variables and is given by:\n",
    "\n",
    "$$g(\\phi) = \\frac{1}{12} + \\sum_{i=1}^N \\left[ \\left( \\frac{\\phi_i^4}{4} - \\frac{\\phi_i^3}{3} \\right) + \\frac{1}{2} \\sum_{i<j} \\phi_i^2 \\phi_j^2 \\right]$$"
   ]
  },
  {
   "cell_type": "markdown",
   "metadata": {
    "slideshow": {
     "slide_type": "slide"
    }
   },
   "source": [
    "A constraint is enforced at every point in the domain of computation:\n",
    "\n",
    "$$\n",
    "\\sum_{i=1}^N \\phi_i = 1\n",
    "$$\n",
    "\n",
    "and\n",
    "\n",
    "$$\n",
    "\\sum_{i=1}^N \\dot{\\phi_i} = 0\n",
    "$$\n",
    "\n",
    "This is dealt with by adding a Lagrange multiplier and solving using standard variational calculus techniques."
   ]
  },
  {
   "cell_type": "markdown",
   "metadata": {
    "slideshow": {
     "slide_type": "slide"
    }
   },
   "source": [
    "Upon computing the variational derivatives, the equations to solve are as follows:\n",
    "\n",
    "$$\n",
    "\\frac{\\delta F}{\\delta \\phi_{i}} = w [ \\phi_{i} (\\sum_{j}^{N} \\phi_{j}^2 - \\phi_{i})] - \\epsilon^2 \\nabla^2 \\phi_{i}\n",
    "$$\n",
    "\n",
    "$$\n",
    "- \\frac{1}{m} \\frac{\\partial \\phi_i}{\\partial t} = \\frac{\\delta F}{\\delta \\phi_{i}} + \\frac{1}{N} \\sum_{j}^{N} \\frac{\\delta F}{\\delta \\phi_{j}}\n",
    "$$\n",
    "\n",
    "Note that there is a constraint on the local sum of all phase variables leading to the second term in the equation of motion."
   ]
  },
  {
   "cell_type": "markdown",
   "metadata": {
    "slideshow": {
     "slide_type": "slide"
    }
   },
   "source": [
    "## An Example Implementation\n",
    "----\n",
    "\n",
    "* Uses Python/Numpy features such as slicing, list comprehensions, tuple unpacking for pointer swap\n",
    "* Lots of looping over grain ids\n",
    "* Demonstrates the multi-order parameter method\n",
    "* Uses a derived variable for display of the fields"
   ]
  },
  {
   "cell_type": "code",
   "execution_count": null,
   "metadata": {
    "slideshow": {
     "slide_type": "skip"
    }
   },
   "outputs": [],
   "source": [
    "%matplotlib notebook\n",
    "\n",
    "import matplotlib\n",
    "import matplotlib.pyplot as plt\n",
    "import itertools as itt\n",
    "import random\n",
    "import numpy as np\n",
    "\n",
    "lengthx = 3.\n",
    "lengthy = 3.\n",
    "nx = 150\n",
    "dx = lengthx/nx\n",
    "ny = 150\n",
    "dy = lengthy/ny\n",
    "\n",
    "m = 1.0\n",
    "\n",
    "grains = 10\n",
    "\n",
    "width = 0.003\n",
    "gamma = 1./3.\n",
    "w = 3.*(gamma/width)\n",
    "epsilon2 = np.sqrt(3.*(width * gamma))\n",
    "\n",
    "dt = 5e-5\n",
    "\n",
    "plot_freq = 200\n",
    "steps = 7000\n",
    "\n",
    "x, y = np.linspace(0,lengthx,nx), np.linspace(0,lengthy,ny)\n",
    "dx, dy = lengthx/(nx-1), lengthy/(ny-1)\n",
    "\n",
    "# Create a list of phis.  Each phi should be an ndarray of length with nx points.\n",
    "phi_fields_old = np.zeros((grains,nx,ny))\n",
    "phi_fields_new = np.zeros((grains,nx,ny))\n",
    "\n",
    "# This is for the Lagrangian mobility.\n",
    "delFdelPhi = np.zeros((grains,nx,ny))\n",
    "\n",
    "# These are helper fields.  They don't need to be indexed by the grain.\n",
    "delFdelPhiSum = np.zeros((nx,ny))\n",
    "pair_sum = np.zeros((nx,ny))\n",
    "source = np.zeros((nx,ny))\n",
    "laplacian = np.zeros((nx,ny))\n",
    "phi_squared_sum = np.zeros((nx,ny))\n",
    "\n",
    "# Set the initial conditions for each phi field. \n",
    "#radius = lengthx/20.0\n",
    "#for grain in range(grains):\n",
    "#    position = (lengthx-0.0)*np.random.random(size=(2)) + 0.0\n",
    "#    for i in range(nx):\n",
    "#        for j in range(ny):\n",
    "#            if (x[i] - position[0])**2+(y[j] - position[1])**2 < radius**2:\n",
    "#                phi_fields_old[grain][i,j] = 1.0\n",
    "#            else:\n",
    "#                pass\n",
    "\n",
    "# Noise initial condition.\n",
    "for grain in range(grains):\n",
    "    phi_fields_old[grain] = np.random.normal(1.0/grains, 0.01, (nx,ny))\n",
    "            \n",
    "for grain in range(grains):\n",
    "    # Set periodic boundary conditions on the new fields.\n",
    "    phi_fields_old[grain][0,:] = phi_fields_old[grain][-2,:]\n",
    "    phi_fields_old[grain][:,0] = phi_fields_old[grain][:,-2]\n",
    "    phi_fields_old[grain][-1,:] = phi_fields_old[grain][1,:]\n",
    "    phi_fields_old[grain][:,-1] = phi_fields_old[grain][:,1]\n",
    "\n",
    "# Put figure setup code here.\n",
    "fig = plt.figure(figsize=(8,8))\n",
    "im = plt.imshow(pair_sum, vmin=np.min(pair_sum), vmax=np.max(pair_sum), cmap='rainbow')\n",
    "\n",
    "# Define the laplacian function here for compiling.  Use Numba.\n",
    "def laplacian2D(field, dx, dy):\n",
    "    \"\"\"\n",
    "    laplacian2D(field, dx, dy)\n",
    "    \n",
    "    This function computes the 2D Laplacian for a field passed to it.\n",
    "    The return shape is the interior of the array so the assignment for \n",
    "    this function should look like:  \n",
    "    \n",
    "    laplacian[1:-1,1:-1] = laplacian2D(field,dx,dy)\n",
    "    \n",
    "    I guess at some point, I should fix this or pad the results and/or \n",
    "    grab a little memory to get the shape right.\n",
    "    \n",
    "    Parameters:\n",
    "    field:  Numpy nd array on which to compute the Laplacian.\n",
    "    dx: the grid spacing in the x direction (first index)\n",
    "    dy: the grid spacing in the y direction (second index)\n",
    "    \"\"\"\n",
    "    return ( \\\n",
    "            (field[0:-2,1:-1] - 2*field[1:-1,1:-1] + field[2:,1:-1])/dx/dx + \\\n",
    "            (field[1:-1,0:-2] - 2*field[1:-1,1:-1] + field[1:-1,2:])/dy/dy \\\n",
    "           )\n",
    "\n",
    "#from numba import double\n",
    "#from numba.decorators import jit, autojit\n",
    "#laplacian2D_numba = autojit(laplacian2D)\n",
    "\n",
    "# This is the timestep loop.\n",
    "for step in range(steps):\n",
    "    \n",
    "    # Compute all the phi squared values\n",
    "    phi_squared_sum = sum([phi_fields_old[i]**2 for i in range(grains)])\n",
    "\n",
    "    # Compute all the delFdelPhi terms first as they are needed at each timestep.\n",
    "    for grain in range(grains):\n",
    "        source = w*(phi_fields_old[grain]*(phi_squared_sum - phi_fields_old[grain]))\n",
    "\n",
    "        laplacian[1:-1,1:-1] = epsilon2*laplacian2D(phi_fields_old[grain],dx,dy)\n",
    "        #laplacian[1:-1,1:-1] = epsilon2*laplacian2D_numba(phi_fields_old[grain],dx,dy)\n",
    "        \n",
    "        delFdelPhi[grain] = source - laplacian\n",
    "    \n",
    "    delFdelPhiSum = sum([delFdelPhi[i] for i in range(grains)])\n",
    "    \n",
    "    for grain in range(grains):\n",
    "        \n",
    "        # Compute the new values of phi.\n",
    "        phi_fields_new[grain] = \\\n",
    "        -m*dt*(delFdelPhi[grain] + (1.0/grains)*(delFdelPhiSum)) + phi_fields_old[grain]\n",
    "        \n",
    "        # Set periodic boundary conditions on the new fields.\n",
    "        phi_fields_new[grain][0,:] = phi_fields_new[grain][-2,:]\n",
    "        phi_fields_new[grain][:,0] = phi_fields_new[grain][:,-2]\n",
    "        phi_fields_new[grain][-1,:] = phi_fields_new[grain][1,:]\n",
    "        phi_fields_new[grain][:,-1] = phi_fields_new[grain][:,1]\n",
    "\n",
    "    # Swap and repeat.\n",
    "    phi_fields_new, phi_fields_old = phi_fields_old, phi_fields_new\n",
    "    \n",
    "    if step%plot_freq==0:\n",
    "        \n",
    "        pair_sum = np.zeros((nx,ny))\n",
    "        pair_sum = sum(\n",
    "            [\n",
    "            phi_fields_old[pairs[0]]**2 * phi_fields_old[pairs[1]]**2 \\\n",
    "            for pairs in itt.combinations(np.arange(grains),2)\n",
    "            ]\n",
    "        )\n",
    "        plt.imshow(pair_sum, vmin=np.min(pair_sum), vmax=np.max(pair_sum), cmap='rainbow')\n",
    "        im.set_data(pair_sum)\n",
    "        fig.canvas.draw()"
   ]
  },
  {
   "cell_type": "markdown",
   "metadata": {
    "slideshow": {
     "slide_type": "slide"
    }
   },
   "source": [
    "## Summary\n",
    "----\n",
    "\n",
    "* We have examined pure material, solutions, and multiphase phase field models\n",
    "* These are the core models for building more realistic and complex systems\n",
    "* Understanding these methods will permit understanding and development of models such as those used for additive manufacturing.\n",
    "* The difficult part of phase field modeling (beyond the solution algorithms) is to ensure the free energy landscape is physically meaningful at the intermediate states (e.g. at the interface).  This is especially important in multi-order parameter models."
   ]
  },
  {
   "cell_type": "markdown",
   "metadata": {
    "slideshow": {
     "slide_type": "skip"
    }
   },
   "source": [
    "----\n",
    "July 25, 2019  "
   ]
  }
 ],
 "metadata": {
  "celltoolbar": "Slideshow",
  "kernelspec": {
   "display_name": "Python 2",
   "language": "python",
   "name": "python2"
  },
  "language_info": {
   "codemirror_mode": {
    "name": "ipython",
    "version": 2
   },
   "file_extension": ".py",
   "mimetype": "text/x-python",
   "name": "python",
   "nbconvert_exporter": "python",
   "pygments_lexer": "ipython2",
   "version": "2.7.15"
  }
 },
 "nbformat": 4,
 "nbformat_minor": 2
}
